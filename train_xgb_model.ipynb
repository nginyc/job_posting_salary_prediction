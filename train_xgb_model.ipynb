{
 "cells": [
  {
   "cell_type": "markdown",
   "id": "cc2fc48f-dbcc-4e6c-bc0e-8d1e72e670a4",
   "metadata": {},
   "source": [
    "# Salary Prediction from LinkedIn Job Postings - Train XGBoost Model"
   ]
  },
  {
   "cell_type": "code",
   "execution_count": 1,
   "id": "3375fb27-0be7-4da8-9378-9137587226e2",
   "metadata": {},
   "outputs": [
    {
     "name": "stderr",
     "output_type": "stream",
     "text": [
      "/Users/nginyc/repos/job_posting_salary_prediction/venv/lib/python3.12/site-packages/tqdm/auto.py:21: TqdmWarning: IProgress not found. Please update jupyter and ipywidgets. See https://ipywidgets.readthedocs.io/en/stable/user_install.html\n",
      "  from .autonotebook import tqdm as notebook_tqdm\n"
     ]
    }
   ],
   "source": [
    "import xgboost as xgb\n",
    "import pandas as pd, numpy as np\n",
    "import salary\n",
    "from sklearn.pipeline import make_pipeline\n",
    "from sklearn.compose import ColumnTransformer\n",
    "from sklearn.preprocessing import StandardScaler\n",
    "from category_encoders import TargetEncoder, OneHotEncoder\n",
    "from sklearn.impute import SimpleImputer"
   ]
  },
  {
   "cell_type": "markdown",
   "id": "2dcc83ff-8948-46b2-94bd-096093c31122",
   "metadata": {},
   "source": [
    "## Train & Evaluate Model"
   ]
  },
  {
   "cell_type": "code",
   "execution_count": 10,
   "id": "26265b94",
   "metadata": {},
   "outputs": [],
   "source": [
    "(X_train, y_train) = salary.get_train_dataset()\n",
    "(X_test, y_test) = salary.get_test_dataset()"
   ]
  },
  {
   "cell_type": "markdown",
   "id": "d4535445",
   "metadata": {},
   "source": [
    "### Use Target Encoded Norm Title"
   ]
  },
  {
   "cell_type": "code",
   "execution_count": 27,
   "id": "e9844899",
   "metadata": {},
   "outputs": [
    {
     "name": "stdout",
     "output_type": "stream",
     "text": [
      "[03:39:44] INFO: /Users/runner/work/xgboost/xgboost/src/data/iterative_dmatrix.cc:53: Finished constructing the `IterativeDMatrix`: (27885, 32, 892320).\n",
      "Train R2: 0.6221\n",
      "Train RMSE: 37813.5032\n",
      "Train MAE: 23757.7600\n"
     ]
    }
   ],
   "source": [
    "model = make_pipeline(\n",
    "    ColumnTransformer(\n",
    "        transformers=[\n",
    "            ('target_encoder', TargetEncoder(), ['norm_title', 'location_state', 'company_industries']),\n",
    "            ('one_hot_encoder', OneHotEncoder(use_cat_names=True), ['clustered_edu_req', 'clustered_pref_qual']),\n",
    "            ('experience_level', salary.experience_level_encoder, ['formatted_experience_level']),\n",
    "            ('work_type', salary.work_type_encoder, ['formatted_work_type']),\n",
    "            ('remote_allowed', 'passthrough', ['remote_allowed']),\n",
    "            ('company_employee_count', SimpleImputer(strategy='median'), ['company_employee_count']),\n",
    "        ],\n",
    "        remainder='drop'\n",
    "    ),\n",
    "    StandardScaler(),\n",
    "    xgb.XGBRegressor(\n",
    "        n_estimators=1000,\n",
    "        max_depth=5,\n",
    "        learning_rate=0.1,\n",
    "        verbosity=2,\n",
    "        reg_lambda=1e2,\n",
    "        objective='reg:squarederror',\n",
    "        subsample=0.8,\n",
    "        random_state=42\n",
    "    )\n",
    ").fit(X_train, y_train)\n",
    "\n",
    "salary.evaluate_train_predictions(model.predict(X_train))"
   ]
  },
  {
   "cell_type": "code",
   "execution_count": 28,
   "id": "bb3098fe",
   "metadata": {},
   "outputs": [
    {
     "name": "stdout",
     "output_type": "stream",
     "text": [
      "Test R2: 0.5298\n",
      "Test RMSE: 39975.5421\n",
      "Test MAE: 26313.5332\n",
      "On average, our predicted salaries are $26313.53 off the true salaries\n",
      "This is 39.40% better than a naive global mean\n"
     ]
    }
   ],
   "source": [
    "salary.evaluate_test_predictions(model.predict(X_test))"
   ]
  },
  {
   "cell_type": "code",
   "execution_count": 12,
   "id": "ba5a1c76",
   "metadata": {},
   "outputs": [
    {
     "data": {
      "text/html": [
       "<div>\n",
       "<style scoped>\n",
       "    .dataframe tbody tr th:only-of-type {\n",
       "        vertical-align: middle;\n",
       "    }\n",
       "\n",
       "    .dataframe tbody tr th {\n",
       "        vertical-align: top;\n",
       "    }\n",
       "\n",
       "    .dataframe thead th {\n",
       "        text-align: right;\n",
       "    }\n",
       "</style>\n",
       "<table border=\"1\" class=\"dataframe\">\n",
       "  <thead>\n",
       "    <tr style=\"text-align: right;\">\n",
       "      <th></th>\n",
       "      <th>Feature</th>\n",
       "      <th>Coefficient</th>\n",
       "    </tr>\n",
       "  </thead>\n",
       "  <tbody>\n",
       "    <tr>\n",
       "      <th>0</th>\n",
       "      <td>one_hot_encoder__clustered_edu_req_High school diploma or equivalent</td>\n",
       "      <td>0.140358</td>\n",
       "    </tr>\n",
       "    <tr>\n",
       "      <th>1</th>\n",
       "      <td>one_hot_encoder__clustered_edu_req_High school diploma/GED/equivalent preferred</td>\n",
       "      <td>0.093004</td>\n",
       "    </tr>\n",
       "    <tr>\n",
       "      <th>2</th>\n",
       "      <td>experience_level__formatted_experience_level</td>\n",
       "      <td>0.091174</td>\n",
       "    </tr>\n",
       "    <tr>\n",
       "      <th>3</th>\n",
       "      <td>target_encoder__norm_title</td>\n",
       "      <td>0.05329</td>\n",
       "    </tr>\n",
       "    <tr>\n",
       "      <th>4</th>\n",
       "      <td>target_encoder__company_industries</td>\n",
       "      <td>0.042287</td>\n",
       "    </tr>\n",
       "    <tr>\n",
       "      <th>5</th>\n",
       "      <td>one_hot_encoder__clustered_edu_req_Bachelor's degree in Computer Science, Information Systems, Computer Engineering or related field</td>\n",
       "      <td>0.038735</td>\n",
       "    </tr>\n",
       "    <tr>\n",
       "      <th>6</th>\n",
       "      <td>one_hot_encoder__clustered_edu_req_nan</td>\n",
       "      <td>0.038673</td>\n",
       "    </tr>\n",
       "    <tr>\n",
       "      <th>7</th>\n",
       "      <td>one_hot_encoder__clustered_edu_req_Graduate of an accredited program and board certified.</td>\n",
       "      <td>0.036136</td>\n",
       "    </tr>\n",
       "    <tr>\n",
       "      <th>8</th>\n",
       "      <td>one_hot_encoder__clustered_pref_qual_nan</td>\n",
       "      <td>0.028979</td>\n",
       "    </tr>\n",
       "    <tr>\n",
       "      <th>9</th>\n",
       "      <td>one_hot_encoder__clustered_pref_qual_Healthcare training/experience.</td>\n",
       "      <td>0.027178</td>\n",
       "    </tr>\n",
       "  </tbody>\n",
       "</table>\n",
       "</div>"
      ],
      "text/plain": [
       "                                                                                                                                Feature  \\\n",
       "0                                                                  one_hot_encoder__clustered_edu_req_High school diploma or equivalent   \n",
       "1                                                       one_hot_encoder__clustered_edu_req_High school diploma/GED/equivalent preferred   \n",
       "2                                                                                          experience_level__formatted_experience_level   \n",
       "3                                                                                                            target_encoder__norm_title   \n",
       "4                                                                                                    target_encoder__company_industries   \n",
       "5  one_hot_encoder__clustered_edu_req_Bachelor's degree in Computer Science, Information Systems, Computer Engineering or related field   \n",
       "6                                                                                                one_hot_encoder__clustered_edu_req_nan   \n",
       "7                                             one_hot_encoder__clustered_edu_req_Graduate of an accredited program and board certified.   \n",
       "8                                                                                              one_hot_encoder__clustered_pref_qual_nan   \n",
       "9                                                                  one_hot_encoder__clustered_pref_qual_Healthcare training/experience.   \n",
       "\n",
       "  Coefficient  \n",
       "0    0.140358  \n",
       "1    0.093004  \n",
       "2    0.091174  \n",
       "3     0.05329  \n",
       "4    0.042287  \n",
       "5    0.038735  \n",
       "6    0.038673  \n",
       "7    0.036136  \n",
       "8    0.028979  \n",
       "9    0.027178  "
      ]
     },
     "execution_count": 12,
     "metadata": {},
     "output_type": "execute_result"
    }
   ],
   "source": [
    "def get_important_features(model, n=10):\n",
    "    feature_names = model[:-1].get_feature_names_out(salary.df_X.columns)\n",
    "    coef = model[-1].feature_importances_\n",
    "    idxs = np.flip(np.argsort(np.abs(coef))[-n:])\n",
    "    pd.set_option('display.max_colwidth', None)\n",
    "    return pd.DataFrame([feature_names[idxs], coef[idxs]], index=[\"Feature\", \"Coefficient\"]).transpose()\n",
    "\n",
    "get_important_features(model)"
   ]
  },
  {
   "cell_type": "markdown",
   "id": "d5cd17b9",
   "metadata": {},
   "source": [
    "### Use One Hot Encoded Norm Title\n"
   ]
  },
  {
   "cell_type": "code",
   "execution_count": 25,
   "id": "e6709b29",
   "metadata": {},
   "outputs": [
    {
     "name": "stdout",
     "output_type": "stream",
     "text": [
      "[03:39:26] INFO: /Users/runner/work/xgboost/xgboost/src/data/iterative_dmatrix.cc:53: Finished constructing the `IterativeDMatrix`: (27885, 93, 2593305).\n",
      "Train R2: 0.6104\n",
      "Train RMSE: 38395.6739\n",
      "Train MAE: 24265.4596\n"
     ]
    }
   ],
   "source": [
    "model = make_pipeline(\n",
    "    ColumnTransformer(\n",
    "        transformers=[\n",
    "            ('one_hot_encoder', OneHotEncoder(use_cat_names=True), ['norm_title', 'clustered_edu_req', 'clustered_pref_qual']),\n",
    "            ('target_encoder', TargetEncoder(), ['location_state', 'company_industries']),\n",
    "            ('experience_level', salary.experience_level_encoder, ['formatted_experience_level']),\n",
    "            ('work_type', salary.work_type_encoder, ['formatted_work_type']),\n",
    "            ('remote_allowed', 'passthrough', ['remote_allowed']),\n",
    "            ('company_employee_count', SimpleImputer(strategy='median'), ['company_employee_count']),\n",
    "        ],\n",
    "        remainder='drop'\n",
    "    ),\n",
    "    StandardScaler(),\n",
    "    xgb.XGBRegressor(\n",
    "        n_estimators=1000,\n",
    "        max_depth=5,\n",
    "        learning_rate=0.1,\n",
    "        verbosity=2,\n",
    "        reg_lambda=1e2,\n",
    "        objective='reg:squarederror',\n",
    "        subsample=0.8,\n",
    "        random_state=42\n",
    "    )\n",
    ").fit(X_train, y_train)\n",
    "\n",
    "salary.evaluate_train_predictions(model.predict(X_train))"
   ]
  },
  {
   "cell_type": "code",
   "execution_count": 26,
   "id": "50f616a1",
   "metadata": {},
   "outputs": [
    {
     "name": "stdout",
     "output_type": "stream",
     "text": [
      "Test R2: 0.5350\n",
      "Test RMSE: 39753.2256\n",
      "Test MAE: 26169.9725\n",
      "On average, our predicted salaries are $26169.97 off the true salaries\n",
      "This is 39.73% better than a naive global mean\n"
     ]
    }
   ],
   "source": [
    "salary.evaluate_test_predictions(model.predict(X_test))"
   ]
  },
  {
   "cell_type": "code",
   "execution_count": 16,
   "id": "d0bc08c5",
   "metadata": {},
   "outputs": [
    {
     "data": {
      "text/html": [
       "<div>\n",
       "<style scoped>\n",
       "    .dataframe tbody tr th:only-of-type {\n",
       "        vertical-align: middle;\n",
       "    }\n",
       "\n",
       "    .dataframe tbody tr th {\n",
       "        vertical-align: top;\n",
       "    }\n",
       "\n",
       "    .dataframe thead th {\n",
       "        text-align: right;\n",
       "    }\n",
       "</style>\n",
       "<table border=\"1\" class=\"dataframe\">\n",
       "  <thead>\n",
       "    <tr style=\"text-align: right;\">\n",
       "      <th></th>\n",
       "      <th>Feature</th>\n",
       "      <th>Coefficient</th>\n",
       "    </tr>\n",
       "  </thead>\n",
       "  <tbody>\n",
       "    <tr>\n",
       "      <th>0</th>\n",
       "      <td>experience_level__formatted_experience_level</td>\n",
       "      <td>0.048066</td>\n",
       "    </tr>\n",
       "    <tr>\n",
       "      <th>1</th>\n",
       "      <td>one_hot_encoder__clustered_edu_req_High school diploma or equivalent</td>\n",
       "      <td>0.047244</td>\n",
       "    </tr>\n",
       "    <tr>\n",
       "      <th>2</th>\n",
       "      <td>one_hot_encoder__norm_title_Administrative Assistant</td>\n",
       "      <td>0.036594</td>\n",
       "    </tr>\n",
       "    <tr>\n",
       "      <th>3</th>\n",
       "      <td>one_hot_encoder__clustered_edu_req_High school diploma/GED/equivalent preferred</td>\n",
       "      <td>0.033407</td>\n",
       "    </tr>\n",
       "    <tr>\n",
       "      <th>4</th>\n",
       "      <td>one_hot_encoder__norm_title_Senior Software Engineer</td>\n",
       "      <td>0.023981</td>\n",
       "    </tr>\n",
       "    <tr>\n",
       "      <th>5</th>\n",
       "      <td>one_hot_encoder__norm_title_Customer Service Representative</td>\n",
       "      <td>0.023723</td>\n",
       "    </tr>\n",
       "    <tr>\n",
       "      <th>6</th>\n",
       "      <td>one_hot_encoder__clustered_edu_req_Bachelor's degree in Computer Science, Information Systems, Computer Engineering or related field</td>\n",
       "      <td>0.022913</td>\n",
       "    </tr>\n",
       "    <tr>\n",
       "      <th>7</th>\n",
       "      <td>target_encoder__company_industries</td>\n",
       "      <td>0.022558</td>\n",
       "    </tr>\n",
       "    <tr>\n",
       "      <th>8</th>\n",
       "      <td>one_hot_encoder__norm_title_Medical Assistant</td>\n",
       "      <td>0.021083</td>\n",
       "    </tr>\n",
       "    <tr>\n",
       "      <th>9</th>\n",
       "      <td>one_hot_encoder__norm_title_Nurse Practitioner</td>\n",
       "      <td>0.019383</td>\n",
       "    </tr>\n",
       "  </tbody>\n",
       "</table>\n",
       "</div>"
      ],
      "text/plain": [
       "                                                                                                                                Feature  \\\n",
       "0                                                                                          experience_level__formatted_experience_level   \n",
       "1                                                                  one_hot_encoder__clustered_edu_req_High school diploma or equivalent   \n",
       "2                                                                                  one_hot_encoder__norm_title_Administrative Assistant   \n",
       "3                                                       one_hot_encoder__clustered_edu_req_High school diploma/GED/equivalent preferred   \n",
       "4                                                                                  one_hot_encoder__norm_title_Senior Software Engineer   \n",
       "5                                                                           one_hot_encoder__norm_title_Customer Service Representative   \n",
       "6  one_hot_encoder__clustered_edu_req_Bachelor's degree in Computer Science, Information Systems, Computer Engineering or related field   \n",
       "7                                                                                                    target_encoder__company_industries   \n",
       "8                                                                                         one_hot_encoder__norm_title_Medical Assistant   \n",
       "9                                                                                        one_hot_encoder__norm_title_Nurse Practitioner   \n",
       "\n",
       "  Coefficient  \n",
       "0    0.048066  \n",
       "1    0.047244  \n",
       "2    0.036594  \n",
       "3    0.033407  \n",
       "4    0.023981  \n",
       "5    0.023723  \n",
       "6    0.022913  \n",
       "7    0.022558  \n",
       "8    0.021083  \n",
       "9    0.019383  "
      ]
     },
     "execution_count": 16,
     "metadata": {},
     "output_type": "execute_result"
    }
   ],
   "source": [
    "get_important_features(model)"
   ]
  }
 ],
 "metadata": {
  "kernelspec": {
   "display_name": "venv",
   "language": "python",
   "name": "python3"
  },
  "language_info": {
   "codemirror_mode": {
    "name": "ipython",
    "version": 3
   },
   "file_extension": ".py",
   "mimetype": "text/x-python",
   "name": "python",
   "nbconvert_exporter": "python",
   "pygments_lexer": "ipython3",
   "version": "3.12.9"
  }
 },
 "nbformat": 4,
 "nbformat_minor": 5
}
