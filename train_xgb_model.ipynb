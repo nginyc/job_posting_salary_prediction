{
 "cells": [
  {
   "cell_type": "markdown",
   "id": "cc2fc48f-dbcc-4e6c-bc0e-8d1e72e670a4",
   "metadata": {},
   "source": [
    "# Salary Prediction from LinkedIn Job Postings - Train XGBoost Model"
   ]
  },
  {
   "cell_type": "code",
   "execution_count": 1,
   "id": "3375fb27-0be7-4da8-9378-9137587226e2",
   "metadata": {},
   "outputs": [
    {
     "name": "stderr",
     "output_type": "stream",
     "text": [
      "/Users/nginyc/repos/job_posting_salary_prediction/venv/lib/python3.12/site-packages/tqdm/auto.py:21: TqdmWarning: IProgress not found. Please update jupyter and ipywidgets. See https://ipywidgets.readthedocs.io/en/stable/user_install.html\n",
      "  from .autonotebook import tqdm as notebook_tqdm\n"
     ]
    }
   ],
   "source": [
    "import xgboost as xgb\n",
    "import pandas as pd, numpy as np\n",
    "import salary\n",
    "from sklearn.pipeline import make_pipeline\n",
    "from sklearn.compose import ColumnTransformer\n",
    "from sklearn.preprocessing import StandardScaler\n",
    "from category_encoders import TargetEncoder, OneHotEncoder\n",
    "from sklearn.impute import SimpleImputer"
   ]
  },
  {
   "cell_type": "markdown",
   "id": "2dcc83ff-8948-46b2-94bd-096093c31122",
   "metadata": {},
   "source": [
    "## Train & Evaluate Model"
   ]
  },
  {
   "cell_type": "code",
   "execution_count": 2,
   "id": "26265b94",
   "metadata": {},
   "outputs": [],
   "source": [
    "(X_train, y_train) = salary.get_train_dataset()\n",
    "(X_test, y_test) = salary.get_test_dataset()"
   ]
  },
  {
   "cell_type": "markdown",
   "id": "d4535445",
   "metadata": {},
   "source": [
    "### Use Target Encoded Norm Title"
   ]
  },
  {
   "cell_type": "code",
   "execution_count": 3,
   "id": "e9844899",
   "metadata": {},
   "outputs": [
    {
     "name": "stdout",
     "output_type": "stream",
     "text": [
      "[03:53:20] INFO: /Users/runner/work/xgboost/xgboost/src/data/iterative_dmatrix.cc:53: Finished constructing the `IterativeDMatrix`: (27885, 44, 1226940).\n",
      "Train R2: 0.6395\n",
      "Train RMSE: 36935.0838\n",
      "Train MAE: 23163.5866\n"
     ]
    }
   ],
   "source": [
    "model = make_pipeline(\n",
    "    ColumnTransformer(\n",
    "        transformers=[\n",
    "            ('target_encoder', TargetEncoder(), ['norm_title', 'location_state', 'company_industries']),\n",
    "            ('one_hot_encoder', OneHotEncoder(use_cat_names=True), ['clustered_edu_req', 'clustered_pref_qual', 'clustered_req_skill']),\n",
    "            ('experience_level', salary.experience_level_encoder, ['formatted_experience_level']),\n",
    "            ('work_type', salary.work_type_encoder, ['formatted_work_type']),\n",
    "            ('remote_allowed', 'passthrough', ['remote_allowed']),\n",
    "            ('company_employee_count', SimpleImputer(strategy='median'), ['company_employee_count']),\n",
    "        ],\n",
    "        remainder='drop'\n",
    "    ),\n",
    "    StandardScaler(),\n",
    "    xgb.XGBRegressor(\n",
    "        n_estimators=1000,\n",
    "        max_depth=5,\n",
    "        learning_rate=0.1,\n",
    "        verbosity=2,\n",
    "        reg_lambda=1e2,\n",
    "        objective='reg:squarederror',\n",
    "        subsample=0.8,\n",
    "        random_state=42\n",
    "    )\n",
    ").fit(X_train, y_train)\n",
    "\n",
    "salary.evaluate_train_predictions(model.predict(X_train))"
   ]
  },
  {
   "cell_type": "code",
   "execution_count": 4,
   "id": "bb3098fe",
   "metadata": {},
   "outputs": [
    {
     "name": "stdout",
     "output_type": "stream",
     "text": [
      "Test R2: 0.5393\n",
      "Test RMSE: 39571.1120\n",
      "Test MAE: 25954.4591\n",
      "On average, our predicted salaries are $25954.46 off the true salaries\n",
      "This is 40.22% better than a naive global mean\n"
     ]
    }
   ],
   "source": [
    "salary.evaluate_test_predictions(model.predict(X_test))"
   ]
  },
  {
   "cell_type": "code",
   "execution_count": 5,
   "id": "ba5a1c76",
   "metadata": {},
   "outputs": [
    {
     "data": {
      "text/html": [
       "<div>\n",
       "<style scoped>\n",
       "    .dataframe tbody tr th:only-of-type {\n",
       "        vertical-align: middle;\n",
       "    }\n",
       "\n",
       "    .dataframe tbody tr th {\n",
       "        vertical-align: top;\n",
       "    }\n",
       "\n",
       "    .dataframe thead th {\n",
       "        text-align: right;\n",
       "    }\n",
       "</style>\n",
       "<table border=\"1\" class=\"dataframe\">\n",
       "  <thead>\n",
       "    <tr style=\"text-align: right;\">\n",
       "      <th></th>\n",
       "      <th>Feature</th>\n",
       "      <th>Coefficient</th>\n",
       "    </tr>\n",
       "  </thead>\n",
       "  <tbody>\n",
       "    <tr>\n",
       "      <th>0</th>\n",
       "      <td>one_hot_encoder__clustered_edu_req_High school diploma or equivalent</td>\n",
       "      <td>0.12156</td>\n",
       "    </tr>\n",
       "    <tr>\n",
       "      <th>1</th>\n",
       "      <td>experience_level__formatted_experience_level</td>\n",
       "      <td>0.096609</td>\n",
       "    </tr>\n",
       "    <tr>\n",
       "      <th>2</th>\n",
       "      <td>one_hot_encoder__clustered_edu_req_High school diploma/GED/equivalent preferred</td>\n",
       "      <td>0.092995</td>\n",
       "    </tr>\n",
       "    <tr>\n",
       "      <th>3</th>\n",
       "      <td>target_encoder__norm_title</td>\n",
       "      <td>0.052333</td>\n",
       "    </tr>\n",
       "    <tr>\n",
       "      <th>4</th>\n",
       "      <td>target_encoder__company_industries</td>\n",
       "      <td>0.038422</td>\n",
       "    </tr>\n",
       "    <tr>\n",
       "      <th>5</th>\n",
       "      <td>one_hot_encoder__clustered_req_skill_Strong communication skills, organizational and time management skills, computer skills, attention to detail, data entry, and ability to work in a team</td>\n",
       "      <td>0.034561</td>\n",
       "    </tr>\n",
       "    <tr>\n",
       "      <th>6</th>\n",
       "      <td>one_hot_encoder__clustered_req_skill_Expertise in Software Engineering and Application Integration; Experience working with Web Services / Messaging: XML, REST, API development, ITIL processes and SOA Governance; Experience with cloud integration platforms like Oracle, Microsoft Azure and other cloud-based solutions; Experience with enterprise platforms including Salesforce, PeopleSoft, ServiceNow, SAP ARIBA, Box, Oracle ERP; Expertise programming with languages such as Java, .NET, Python; Experience working with enterprise connectors and developing custom connectors; Experience with migration of APIs from traditional applications to cloud platforms; Experience with Unix, Red Hat Linux, Shells; Experience with protocols such as FTP/SFTP/FTPS/PGP/GPG; Experience with Oracle SOA Suite 12C; Experience with various middleware components and concepts such as BPEL, BAM, ESB, WSM, and Rules Engines; Experience with development and concepts of MicroServices; Use of SDLC methodologies: Agile and Waterfall; Ability to perform requirements gathering and documentation from internal and external customers; Ability to work either independently or as part of a team; Strong written and oral communication skills; Excellent interpersonal, communication, and organizational skills to cultivate relationships with strategic partners and stakeholders</td>\n",
       "      <td>0.034062</td>\n",
       "    </tr>\n",
       "    <tr>\n",
       "      <th>7</th>\n",
       "      <td>one_hot_encoder__clustered_req_skill_Customer service, communication skills, ability to work independently and within a team</td>\n",
       "      <td>0.028374</td>\n",
       "    </tr>\n",
       "    <tr>\n",
       "      <th>8</th>\n",
       "      <td>one_hot_encoder__clustered_req_skill_Business strategy and operating models, gap analysis, technical product strategy, communication, product management, engineering collaboration, .NET system services, communication protocols, industry technologies, Agile (SCRUM), OOD &amp; OOA principles, DDD, languages (C#, JavaScript, TypeScript, SQL), Design Patterns and SOLID principles, technologies (REST, WCF,SOA, MVC, API, ORM, Cloud, SaaS, EF, Dapper), cloud exposure (gRPC, GCP, Azure), data store analysis</td>\n",
       "      <td>0.025729</td>\n",
       "    </tr>\n",
       "    <tr>\n",
       "      <th>9</th>\n",
       "      <td>one_hot_encoder__clustered_edu_req_Bachelor's degree in Computer Science, Information Systems, Computer Engineering or related field</td>\n",
       "      <td>0.025641</td>\n",
       "    </tr>\n",
       "  </tbody>\n",
       "</table>\n",
       "</div>"
      ],
      "text/plain": [
       "                                                                                                                                                                                                                                                                                                                                                                                                                                                                                                                                                                                                                                                                                                                                                                                                                                                                                                                                                                                                                                                                                                                                                                                                                                                                                                                                                                                                 Feature  \\\n",
       "0                                                                                                                                                                                                                                                                                                                                                                                                                                                                                                                                                                                                                                                                                                                                                                                                                                                                                                                                                                                                                                                                                                                                                                                                                                                                                                                                   one_hot_encoder__clustered_edu_req_High school diploma or equivalent   \n",
       "1                                                                                                                                                                                                                                                                                                                                                                                                                                                                                                                                                                                                                                                                                                                                                                                                                                                                                                                                                                                                                                                                                                                                                                                                                                                                                                                                                           experience_level__formatted_experience_level   \n",
       "2                                                                                                                                                                                                                                                                                                                                                                                                                                                                                                                                                                                                                                                                                                                                                                                                                                                                                                                                                                                                                                                                                                                                                                                                                                                                                                                        one_hot_encoder__clustered_edu_req_High school diploma/GED/equivalent preferred   \n",
       "3                                                                                                                                                                                                                                                                                                                                                                                                                                                                                                                                                                                                                                                                                                                                                                                                                                                                                                                                                                                                                                                                                                                                                                                                                                                                                                                                                                             target_encoder__norm_title   \n",
       "4                                                                                                                                                                                                                                                                                                                                                                                                                                                                                                                                                                                                                                                                                                                                                                                                                                                                                                                                                                                                                                                                                                                                                                                                                                                                                                                                                                     target_encoder__company_industries   \n",
       "5                                                                                                                                                                                                                                                                                                                                                                                                                                                                                                                                                                                                                                                                                                                                                                                                                                                                                                                                                                                                                                                                                                                                                                                                           one_hot_encoder__clustered_req_skill_Strong communication skills, organizational and time management skills, computer skills, attention to detail, data entry, and ability to work in a team   \n",
       "6  one_hot_encoder__clustered_req_skill_Expertise in Software Engineering and Application Integration; Experience working with Web Services / Messaging: XML, REST, API development, ITIL processes and SOA Governance; Experience with cloud integration platforms like Oracle, Microsoft Azure and other cloud-based solutions; Experience with enterprise platforms including Salesforce, PeopleSoft, ServiceNow, SAP ARIBA, Box, Oracle ERP; Expertise programming with languages such as Java, .NET, Python; Experience working with enterprise connectors and developing custom connectors; Experience with migration of APIs from traditional applications to cloud platforms; Experience with Unix, Red Hat Linux, Shells; Experience with protocols such as FTP/SFTP/FTPS/PGP/GPG; Experience with Oracle SOA Suite 12C; Experience with various middleware components and concepts such as BPEL, BAM, ESB, WSM, and Rules Engines; Experience with development and concepts of MicroServices; Use of SDLC methodologies: Agile and Waterfall; Ability to perform requirements gathering and documentation from internal and external customers; Ability to work either independently or as part of a team; Strong written and oral communication skills; Excellent interpersonal, communication, and organizational skills to cultivate relationships with strategic partners and stakeholders   \n",
       "7                                                                                                                                                                                                                                                                                                                                                                                                                                                                                                                                                                                                                                                                                                                                                                                                                                                                                                                                                                                                                                                                                                                                                                                                                                                                           one_hot_encoder__clustered_req_skill_Customer service, communication skills, ability to work independently and within a team   \n",
       "8                                                                                                                                                                                                                                                                                                                                                                                                                                                                                                                                                                                                                                                                                                                                                                                                                                                                                   one_hot_encoder__clustered_req_skill_Business strategy and operating models, gap analysis, technical product strategy, communication, product management, engineering collaboration, .NET system services, communication protocols, industry technologies, Agile (SCRUM), OOD & OOA principles, DDD, languages (C#, JavaScript, TypeScript, SQL), Design Patterns and SOLID principles, technologies (REST, WCF,SOA, MVC, API, ORM, Cloud, SaaS, EF, Dapper), cloud exposure (gRPC, GCP, Azure), data store analysis   \n",
       "9                                                                                                                                                                                                                                                                                                                                                                                                                                                                                                                                                                                                                                                                                                                                                                                                                                                                                                                                                                                                                                                                                                                                                                                                                                                                   one_hot_encoder__clustered_edu_req_Bachelor's degree in Computer Science, Information Systems, Computer Engineering or related field   \n",
       "\n",
       "  Coefficient  \n",
       "0     0.12156  \n",
       "1    0.096609  \n",
       "2    0.092995  \n",
       "3    0.052333  \n",
       "4    0.038422  \n",
       "5    0.034561  \n",
       "6    0.034062  \n",
       "7    0.028374  \n",
       "8    0.025729  \n",
       "9    0.025641  "
      ]
     },
     "execution_count": 5,
     "metadata": {},
     "output_type": "execute_result"
    }
   ],
   "source": [
    "def get_important_features(model, n=10):\n",
    "    feature_names = model[:-1].get_feature_names_out(salary.df_X.columns)\n",
    "    coef = model[-1].feature_importances_\n",
    "    idxs = np.flip(np.argsort(np.abs(coef))[-n:])\n",
    "    pd.set_option('display.max_colwidth', None)\n",
    "    return pd.DataFrame([feature_names[idxs], coef[idxs]], index=[\"Feature\", \"Coefficient\"]).transpose()\n",
    "\n",
    "get_important_features(model)"
   ]
  },
  {
   "cell_type": "markdown",
   "id": "d5cd17b9",
   "metadata": {},
   "source": [
    "### Use One Hot Encoded Norm Title\n"
   ]
  },
  {
   "cell_type": "code",
   "execution_count": 6,
   "id": "e6709b29",
   "metadata": {},
   "outputs": [
    {
     "name": "stdout",
     "output_type": "stream",
     "text": [
      "[03:53:29] INFO: /Users/runner/work/xgboost/xgboost/src/data/iterative_dmatrix.cc:53: Finished constructing the `IterativeDMatrix`: (27885, 105, 2927925).\n",
      "Train R2: 0.6258\n",
      "Train RMSE: 37629.9013\n",
      "Train MAE: 23707.7718\n"
     ]
    }
   ],
   "source": [
    "model = make_pipeline(\n",
    "    ColumnTransformer(\n",
    "        transformers=[\n",
    "            ('one_hot_encoder', OneHotEncoder(use_cat_names=True), ['norm_title', 'clustered_edu_req', 'clustered_pref_qual', 'clustered_req_skill']),\n",
    "            ('target_encoder', TargetEncoder(), ['location_state', 'company_industries']),\n",
    "            ('experience_level', salary.experience_level_encoder, ['formatted_experience_level']),\n",
    "            ('work_type', salary.work_type_encoder, ['formatted_work_type']),\n",
    "            ('remote_allowed', 'passthrough', ['remote_allowed']),\n",
    "            ('company_employee_count', SimpleImputer(strategy='median'), ['company_employee_count']),\n",
    "        ],\n",
    "        remainder='drop'\n",
    "    ),\n",
    "    StandardScaler(),\n",
    "    xgb.XGBRegressor(\n",
    "        n_estimators=1000,\n",
    "        max_depth=5,\n",
    "        learning_rate=0.1,\n",
    "        verbosity=2,\n",
    "        reg_lambda=1e2,\n",
    "        objective='reg:squarederror',\n",
    "        subsample=0.8,\n",
    "        random_state=42\n",
    "    )\n",
    ").fit(X_train, y_train)\n",
    "\n",
    "salary.evaluate_train_predictions(model.predict(X_train))"
   ]
  },
  {
   "cell_type": "code",
   "execution_count": 7,
   "id": "50f616a1",
   "metadata": {},
   "outputs": [
    {
     "name": "stdout",
     "output_type": "stream",
     "text": [
      "Test R2: 0.5410\n",
      "Test RMSE: 39496.9160\n",
      "Test MAE: 25898.9212\n",
      "On average, our predicted salaries are $25898.92 off the true salaries\n",
      "This is 40.35% better than a naive global mean\n"
     ]
    }
   ],
   "source": [
    "salary.evaluate_test_predictions(model.predict(X_test))"
   ]
  },
  {
   "cell_type": "code",
   "execution_count": 8,
   "id": "d0bc08c5",
   "metadata": {},
   "outputs": [
    {
     "data": {
      "text/html": [
       "<div>\n",
       "<style scoped>\n",
       "    .dataframe tbody tr th:only-of-type {\n",
       "        vertical-align: middle;\n",
       "    }\n",
       "\n",
       "    .dataframe tbody tr th {\n",
       "        vertical-align: top;\n",
       "    }\n",
       "\n",
       "    .dataframe thead th {\n",
       "        text-align: right;\n",
       "    }\n",
       "</style>\n",
       "<table border=\"1\" class=\"dataframe\">\n",
       "  <thead>\n",
       "    <tr style=\"text-align: right;\">\n",
       "      <th></th>\n",
       "      <th>Feature</th>\n",
       "      <th>Coefficient</th>\n",
       "    </tr>\n",
       "  </thead>\n",
       "  <tbody>\n",
       "    <tr>\n",
       "      <th>0</th>\n",
       "      <td>experience_level__formatted_experience_level</td>\n",
       "      <td>0.066325</td>\n",
       "    </tr>\n",
       "    <tr>\n",
       "      <th>1</th>\n",
       "      <td>one_hot_encoder__clustered_edu_req_High school diploma or equivalent</td>\n",
       "      <td>0.056835</td>\n",
       "    </tr>\n",
       "    <tr>\n",
       "      <th>2</th>\n",
       "      <td>one_hot_encoder__clustered_edu_req_High school diploma/GED/equivalent preferred</td>\n",
       "      <td>0.0327</td>\n",
       "    </tr>\n",
       "    <tr>\n",
       "      <th>3</th>\n",
       "      <td>one_hot_encoder__clustered_req_skill_Expertise in Software Engineering and Application Integration; Experience working with Web Services / Messaging: XML, REST, API development, ITIL processes and SOA Governance; Experience with cloud integration platforms like Oracle, Microsoft Azure and other cloud-based solutions; Experience with enterprise platforms including Salesforce, PeopleSoft, ServiceNow, SAP ARIBA, Box, Oracle ERP; Expertise programming with languages such as Java, .NET, Python; Experience working with enterprise connectors and developing custom connectors; Experience with migration of APIs from traditional applications to cloud platforms; Experience with Unix, Red Hat Linux, Shells; Experience with protocols such as FTP/SFTP/FTPS/PGP/GPG; Experience with Oracle SOA Suite 12C; Experience with various middleware components and concepts such as BPEL, BAM, ESB, WSM, and Rules Engines; Experience with development and concepts of MicroServices; Use of SDLC methodologies: Agile and Waterfall; Ability to perform requirements gathering and documentation from internal and external customers; Ability to work either independently or as part of a team; Strong written and oral communication skills; Excellent interpersonal, communication, and organizational skills to cultivate relationships with strategic partners and stakeholders</td>\n",
       "      <td>0.029791</td>\n",
       "    </tr>\n",
       "    <tr>\n",
       "      <th>4</th>\n",
       "      <td>one_hot_encoder__norm_title_Customer Service Representative</td>\n",
       "      <td>0.029641</td>\n",
       "    </tr>\n",
       "    <tr>\n",
       "      <th>5</th>\n",
       "      <td>one_hot_encoder__norm_title_Administrative Assistant</td>\n",
       "      <td>0.026171</td>\n",
       "    </tr>\n",
       "    <tr>\n",
       "      <th>6</th>\n",
       "      <td>one_hot_encoder__clustered_edu_req_Bachelor's degree in Computer Science, Information Systems, Computer Engineering or related field</td>\n",
       "      <td>0.025117</td>\n",
       "    </tr>\n",
       "    <tr>\n",
       "      <th>7</th>\n",
       "      <td>one_hot_encoder__clustered_req_skill_Business strategy and operating models, gap analysis, technical product strategy, communication, product management, engineering collaboration, .NET system services, communication protocols, industry technologies, Agile (SCRUM), OOD &amp; OOA principles, DDD, languages (C#, JavaScript, TypeScript, SQL), Design Patterns and SOLID principles, technologies (REST, WCF,SOA, MVC, API, ORM, Cloud, SaaS, EF, Dapper), cloud exposure (gRPC, GCP, Azure), data store analysis</td>\n",
       "      <td>0.024382</td>\n",
       "    </tr>\n",
       "    <tr>\n",
       "      <th>8</th>\n",
       "      <td>target_encoder__company_industries</td>\n",
       "      <td>0.023208</td>\n",
       "    </tr>\n",
       "    <tr>\n",
       "      <th>9</th>\n",
       "      <td>one_hot_encoder__norm_title_Nurse Practitioner</td>\n",
       "      <td>0.017737</td>\n",
       "    </tr>\n",
       "  </tbody>\n",
       "</table>\n",
       "</div>"
      ],
      "text/plain": [
       "                                                                                                                                                                                                                                                                                                                                                                                                                                                                                                                                                                                                                                                                                                                                                                                                                                                                                                                                                                                                                                                                                                                                                                                                                                                                                                                                                                                                 Feature  \\\n",
       "0                                                                                                                                                                                                                                                                                                                                                                                                                                                                                                                                                                                                                                                                                                                                                                                                                                                                                                                                                                                                                                                                                                                                                                                                                                                                                                                                                           experience_level__formatted_experience_level   \n",
       "1                                                                                                                                                                                                                                                                                                                                                                                                                                                                                                                                                                                                                                                                                                                                                                                                                                                                                                                                                                                                                                                                                                                                                                                                                                                                                                                                   one_hot_encoder__clustered_edu_req_High school diploma or equivalent   \n",
       "2                                                                                                                                                                                                                                                                                                                                                                                                                                                                                                                                                                                                                                                                                                                                                                                                                                                                                                                                                                                                                                                                                                                                                                                                                                                                                                                        one_hot_encoder__clustered_edu_req_High school diploma/GED/equivalent preferred   \n",
       "3  one_hot_encoder__clustered_req_skill_Expertise in Software Engineering and Application Integration; Experience working with Web Services / Messaging: XML, REST, API development, ITIL processes and SOA Governance; Experience with cloud integration platforms like Oracle, Microsoft Azure and other cloud-based solutions; Experience with enterprise platforms including Salesforce, PeopleSoft, ServiceNow, SAP ARIBA, Box, Oracle ERP; Expertise programming with languages such as Java, .NET, Python; Experience working with enterprise connectors and developing custom connectors; Experience with migration of APIs from traditional applications to cloud platforms; Experience with Unix, Red Hat Linux, Shells; Experience with protocols such as FTP/SFTP/FTPS/PGP/GPG; Experience with Oracle SOA Suite 12C; Experience with various middleware components and concepts such as BPEL, BAM, ESB, WSM, and Rules Engines; Experience with development and concepts of MicroServices; Use of SDLC methodologies: Agile and Waterfall; Ability to perform requirements gathering and documentation from internal and external customers; Ability to work either independently or as part of a team; Strong written and oral communication skills; Excellent interpersonal, communication, and organizational skills to cultivate relationships with strategic partners and stakeholders   \n",
       "4                                                                                                                                                                                                                                                                                                                                                                                                                                                                                                                                                                                                                                                                                                                                                                                                                                                                                                                                                                                                                                                                                                                                                                                                                                                                                                                                            one_hot_encoder__norm_title_Customer Service Representative   \n",
       "5                                                                                                                                                                                                                                                                                                                                                                                                                                                                                                                                                                                                                                                                                                                                                                                                                                                                                                                                                                                                                                                                                                                                                                                                                                                                                                                                                   one_hot_encoder__norm_title_Administrative Assistant   \n",
       "6                                                                                                                                                                                                                                                                                                                                                                                                                                                                                                                                                                                                                                                                                                                                                                                                                                                                                                                                                                                                                                                                                                                                                                                                                                                                   one_hot_encoder__clustered_edu_req_Bachelor's degree in Computer Science, Information Systems, Computer Engineering or related field   \n",
       "7                                                                                                                                                                                                                                                                                                                                                                                                                                                                                                                                                                                                                                                                                                                                                                                                                                                                                   one_hot_encoder__clustered_req_skill_Business strategy and operating models, gap analysis, technical product strategy, communication, product management, engineering collaboration, .NET system services, communication protocols, industry technologies, Agile (SCRUM), OOD & OOA principles, DDD, languages (C#, JavaScript, TypeScript, SQL), Design Patterns and SOLID principles, technologies (REST, WCF,SOA, MVC, API, ORM, Cloud, SaaS, EF, Dapper), cloud exposure (gRPC, GCP, Azure), data store analysis   \n",
       "8                                                                                                                                                                                                                                                                                                                                                                                                                                                                                                                                                                                                                                                                                                                                                                                                                                                                                                                                                                                                                                                                                                                                                                                                                                                                                                                                                                     target_encoder__company_industries   \n",
       "9                                                                                                                                                                                                                                                                                                                                                                                                                                                                                                                                                                                                                                                                                                                                                                                                                                                                                                                                                                                                                                                                                                                                                                                                                                                                                                                                                         one_hot_encoder__norm_title_Nurse Practitioner   \n",
       "\n",
       "  Coefficient  \n",
       "0    0.066325  \n",
       "1    0.056835  \n",
       "2      0.0327  \n",
       "3    0.029791  \n",
       "4    0.029641  \n",
       "5    0.026171  \n",
       "6    0.025117  \n",
       "7    0.024382  \n",
       "8    0.023208  \n",
       "9    0.017737  "
      ]
     },
     "execution_count": 8,
     "metadata": {},
     "output_type": "execute_result"
    }
   ],
   "source": [
    "get_important_features(model)"
   ]
  }
 ],
 "metadata": {
  "kernelspec": {
   "display_name": "venv",
   "language": "python",
   "name": "python3"
  },
  "language_info": {
   "codemirror_mode": {
    "name": "ipython",
    "version": 3
   },
   "file_extension": ".py",
   "mimetype": "text/x-python",
   "name": "python",
   "nbconvert_exporter": "python",
   "pygments_lexer": "ipython3",
   "version": "3.12.9"
  }
 },
 "nbformat": 4,
 "nbformat_minor": 5
}
