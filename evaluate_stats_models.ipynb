{
 "cells": [
  {
   "cell_type": "markdown",
   "id": "cc2fc48f-dbcc-4e6c-bc0e-8d1e72e670a4",
   "metadata": {},
   "source": [
    "# Salary Prediction from LinkedIn Job Postings - Evaluate Stats Model"
   ]
  },
  {
   "cell_type": "code",
   "execution_count": 1,
   "id": "3375fb27-0be7-4da8-9378-9137587226e2",
   "metadata": {},
   "outputs": [
    {
     "name": "stderr",
     "output_type": "stream",
     "text": [
      "/var/folders/vm/77wrgjgj5wzbyghx353b7gym0000gn/T/ipykernel_82769/830439244.py:1: DeprecationWarning: \n",
      "Pyarrow will become a required dependency of pandas in the next major release of pandas (pandas 3.0),\n",
      "(to allow more performant data types, such as the Arrow string type, and better interoperability with other libraries)\n",
      "but was not found to be installed on your system.\n",
      "If this would cause problems for you,\n",
      "please provide us feedback at https://github.com/pandas-dev/pandas/issues/54466\n",
      "        \n",
      "  import pandas as pd, numpy as np\n"
     ]
    }
   ],
   "source": [
    "import pandas as pd, numpy as np\n",
    "import salary\n",
    "from sklearn.base import BaseEstimator"
   ]
  },
  {
   "cell_type": "markdown",
   "id": "d5874f97",
   "metadata": {},
   "source": [
    "## Evaluate Mean Salary by Norm Title Model"
   ]
  },
  {
   "cell_type": "code",
   "execution_count": 4,
   "id": "7df6f6d2",
   "metadata": {},
   "outputs": [
    {
     "name": "stdout",
     "output_type": "stream",
     "text": [
      "Mean CV train R2: 0.1790\n",
      "Mean CV test R2: 0.1755\n",
      "Mean CV train RMSE: 55169.0417\n",
      "Mean CV test RMSE: 55286.8541\n",
      "Mean CV train MAE: 36937.7517\n",
      "Mean CV test MAE: 37006.5690\n",
      "On average, our predicted salaries are $37006.57 off the true salaries\n"
     ]
    }
   ],
   "source": [
    "class MeanSalaryEstimator(BaseEstimator):\n",
    "    def fit(self, X: pd.DataFrame, y):\n",
    "        Xy = X.copy()\n",
    "        Xy['salary'] = y\n",
    "        self._salaries_by_title = Xy.groupby('norm_title')['salary'].mean()\n",
    "        self._global_salary = Xy['salary'].mean()\n",
    "        return self\n",
    "    \n",
    "    def predict(self, X):\n",
    "        return np.array([\n",
    "            self._salaries_by_title.loc[title] if title in self._salaries_by_title.index else self._global_salary\n",
    "            for title in X['norm_title']\n",
    "        ])\n",
    "\n",
    "best_model = salary.train_evaluate_model(MeanSalaryEstimator())"
   ]
  },
  {
   "cell_type": "code",
   "execution_count": 5,
   "id": "3b210356",
   "metadata": {},
   "outputs": [
    {
     "name": "stdout",
     "output_type": "stream",
     "text": [
      "Mean CV train R2: 0.1307\n",
      "Mean CV test R2: 0.1285\n",
      "Mean CV train RMSE: 56766.5715\n",
      "Mean CV test RMSE: 56841.4859\n",
      "Mean CV train MAE: 35312.9150\n",
      "Mean CV test MAE: 35420.3336\n",
      "On average, our predicted salaries are $35420.33 off the true salaries\n"
     ]
    }
   ],
   "source": [
    "class MedianSalaryEstimator(BaseEstimator):\n",
    "    def fit(self, X: pd.DataFrame, y):\n",
    "        Xy = X.copy()\n",
    "        Xy['salary'] = y\n",
    "        self._salaries_by_title = Xy.groupby('norm_title')['salary'].median()\n",
    "        self._global_salary = Xy['salary'].median()\n",
    "        return self\n",
    "    \n",
    "    def predict(self, X):\n",
    "        return np.array([\n",
    "            self._salaries_by_title.loc[title] if title in self._salaries_by_title.index else self._global_salary\n",
    "            for title in X['norm_title']\n",
    "        ])\n",
    "\n",
    "best_model = salary.train_evaluate_model(MedianSalaryEstimator())"
   ]
  }
 ],
 "metadata": {
  "kernelspec": {
   "display_name": "venv",
   "language": "python",
   "name": "python3"
  },
  "language_info": {
   "codemirror_mode": {
    "name": "ipython",
    "version": 3
   },
   "file_extension": ".py",
   "mimetype": "text/x-python",
   "name": "python",
   "nbconvert_exporter": "python",
   "pygments_lexer": "ipython3",
   "version": "3.12.9"
  }
 },
 "nbformat": 4,
 "nbformat_minor": 5
}
