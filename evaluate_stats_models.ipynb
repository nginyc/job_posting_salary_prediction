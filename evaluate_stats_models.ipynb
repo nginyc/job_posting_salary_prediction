{
 "cells": [
  {
   "cell_type": "markdown",
   "id": "cc2fc48f-dbcc-4e6c-bc0e-8d1e72e670a4",
   "metadata": {},
   "source": [
    "# Evaluate Stats Model"
   ]
  },
  {
   "cell_type": "code",
   "execution_count": 1,
   "id": "3375fb27-0be7-4da8-9378-9137587226e2",
   "metadata": {},
   "outputs": [
    {
     "name": "stderr",
     "output_type": "stream",
     "text": [
      "/var/folders/vm/77wrgjgj5wzbyghx353b7gym0000gn/T/ipykernel_85368/830439244.py:1: DeprecationWarning: \n",
      "Pyarrow will become a required dependency of pandas in the next major release of pandas (pandas 3.0),\n",
      "(to allow more performant data types, such as the Arrow string type, and better interoperability with other libraries)\n",
      "but was not found to be installed on your system.\n",
      "If this would cause problems for you,\n",
      "please provide us feedback at https://github.com/pandas-dev/pandas/issues/54466\n",
      "        \n",
      "  import pandas as pd, numpy as np\n",
      "/Users/nginyc/repos/job_posting_salary_prediction/venv/lib/python3.12/site-packages/tqdm/auto.py:21: TqdmWarning: IProgress not found. Please update jupyter and ipywidgets. See https://ipywidgets.readthedocs.io/en/stable/user_install.html\n",
      "  from .autonotebook import tqdm as notebook_tqdm\n"
     ]
    }
   ],
   "source": [
    "import pandas as pd, numpy as np\n",
    "import salary\n",
    "from sklearn.base import BaseEstimator"
   ]
  },
  {
   "cell_type": "markdown",
   "id": "d5874f97",
   "metadata": {},
   "source": [
    "## Evaluate Mean & Median Models"
   ]
  },
  {
   "cell_type": "code",
   "execution_count": 2,
   "id": "ac70ed28",
   "metadata": {},
   "outputs": [],
   "source": [
    "(X_train, y_train) = salary.get_train_dataset()\n",
    "(X_test, y_test) = salary.get_test_dataset()"
   ]
  },
  {
   "cell_type": "code",
   "execution_count": 3,
   "id": "7df6f6d2",
   "metadata": {},
   "outputs": [
    {
     "name": "stdout",
     "output_type": "stream",
     "text": [
      "Test size: 10000\n",
      "Test R2: 0.2231\n",
      "Test RMSE: 52820.8142\n",
      "Test MAE: 34806.1266\n"
     ]
    }
   ],
   "source": [
    "class MeanSalaryByTitleEstimator(BaseEstimator):\n",
    "    def fit(self, X: pd.DataFrame, y):\n",
    "        Xy = X.copy()\n",
    "        Xy['salary'] = y\n",
    "        self._salaries_by_title = Xy.groupby('title')['salary'].mean()\n",
    "        self._global_salary = Xy['salary'].mean()\n",
    "        return self\n",
    "    \n",
    "    def predict(self, X):\n",
    "        return np.array([\n",
    "            self._salaries_by_title.loc[title] if title in self._salaries_by_title.index else self._global_salary\n",
    "            for title in X['title']\n",
    "        ])\n",
    "\n",
    "model = MeanSalaryByTitleEstimator().fit(X_train, y_train)\n",
    "y_pred = model.predict(X_test)\n",
    "mean_title_result = salary.evaluate_test_predictions(y_pred)"
   ]
  },
  {
   "cell_type": "code",
   "execution_count": 4,
   "id": "3b210356",
   "metadata": {},
   "outputs": [
    {
     "name": "stdout",
     "output_type": "stream",
     "text": [
      "Test size: 10000\n",
      "Test R2: 0.1763\n",
      "Test RMSE: 54388.2055\n",
      "Test MAE: 34139.0367\n"
     ]
    }
   ],
   "source": [
    "class MedianSalaryByTitleEstimator(BaseEstimator):\n",
    "    def fit(self, X: pd.DataFrame, y):\n",
    "        Xy = X.copy()\n",
    "        Xy['salary'] = y\n",
    "        self._salaries_by_title = Xy.groupby('title')['salary'].median()\n",
    "        self._global_salary = Xy['salary'].median()\n",
    "        return self\n",
    "    \n",
    "    def predict(self, X):\n",
    "        return np.array([\n",
    "            self._salaries_by_title.loc[title] if title in self._salaries_by_title.index else self._global_salary\n",
    "            for title in X['title']\n",
    "        ])\n",
    "    \n",
    "model = MedianSalaryByTitleEstimator().fit(X_train, y_train)\n",
    "y_pred = model.predict(X_test)\n",
    "median_title_result = salary.evaluate_test_predictions(y_pred)"
   ]
  },
  {
   "cell_type": "code",
   "execution_count": 5,
   "id": "88197463",
   "metadata": {},
   "outputs": [
    {
     "name": "stdout",
     "output_type": "stream",
     "text": [
      "Test size: 10000\n",
      "Test R2: 0.2217\n",
      "Test RMSE: 52870.6352\n",
      "Test MAE: 34788.8125\n"
     ]
    }
   ],
   "source": [
    "class MeanSalaryByTitleLocationEstimator(BaseEstimator):\n",
    "    def __init__(self):\n",
    "        self._title_estimator = MeanSalaryByTitleEstimator()\n",
    "\n",
    "    def fit(self, X: pd.DataFrame, y):\n",
    "        Xy = X.copy()\n",
    "        Xy['salary'] = y\n",
    "        self._salaries_by_title_location = Xy.groupby(['title', 'location'])['salary'].mean()\n",
    "        self._title_estimator = self._title_estimator.fit(X, y)\n",
    "        return self\n",
    "    \n",
    "    def predict(self, X):\n",
    "        preds = []\n",
    "        title_preds = self._title_estimator.predict(X)\n",
    "        for (i, (idx, row)) in enumerate(X.iterrows()):\n",
    "            if (row['title'], row['location']) in self._salaries_by_title_location.index:\n",
    "                pred = self._salaries_by_title_location.loc[row['title'], row['location']]\n",
    "            else:\n",
    "                pred = title_preds[i]\n",
    "\n",
    "            preds.append(pred)\n",
    "\n",
    "        return preds\n",
    "\n",
    "model = MeanSalaryByTitleLocationEstimator().fit(X_train, y_train)\n",
    "y_pred = model.predict(X_test)\n",
    "mean_title_location_result = salary.evaluate_test_predictions(y_pred)"
   ]
  },
  {
   "cell_type": "code",
   "execution_count": 6,
   "id": "a4ca0086",
   "metadata": {},
   "outputs": [
    {
     "name": "stdout",
     "output_type": "stream",
     "text": [
      "Test size: 10000\n",
      "Test R2: 0.1761\n",
      "Test RMSE: 54395.1415\n",
      "Test MAE: 34113.4747\n"
     ]
    }
   ],
   "source": [
    "class MedianSalaryByTitleLocationEstimator(BaseEstimator):\n",
    "    def __init__(self):\n",
    "        self._title_estimator = MedianSalaryByTitleEstimator()\n",
    "\n",
    "    def fit(self, X: pd.DataFrame, y):\n",
    "        Xy = X.copy()\n",
    "        Xy['salary'] = y\n",
    "        self._salaries_by_title_location = Xy.groupby(['title', 'location'])['salary'].median()\n",
    "        self._title_estimator = self._title_estimator.fit(X, y)\n",
    "        return self\n",
    "    \n",
    "    def predict(self, X):\n",
    "        preds = []\n",
    "        title_preds = self._title_estimator.predict(X)\n",
    "        for (i, (idx, row)) in enumerate(X.iterrows()):\n",
    "            if (row['title'], row['location']) in self._salaries_by_title_location.index:\n",
    "                pred = self._salaries_by_title_location.loc[row['title'], row['location']]\n",
    "            else:\n",
    "                pred = title_preds[i]\n",
    "\n",
    "            preds.append(pred)\n",
    "\n",
    "        return preds\n",
    "\n",
    "model = MedianSalaryByTitleLocationEstimator().fit(X_train, y_train)\n",
    "y_pred = model.predict(X_test)\n",
    "median_title_location_result = salary.evaluate_test_predictions(y_pred)"
   ]
  }
 ],
 "metadata": {
  "kernelspec": {
   "display_name": "venv",
   "language": "python",
   "name": "python3"
  },
  "language_info": {
   "codemirror_mode": {
    "name": "ipython",
    "version": 3
   },
   "file_extension": ".py",
   "mimetype": "text/x-python",
   "name": "python",
   "nbconvert_exporter": "python",
   "pygments_lexer": "ipython3",
   "version": "3.12.9"
  }
 },
 "nbformat": 4,
 "nbformat_minor": 5
}
