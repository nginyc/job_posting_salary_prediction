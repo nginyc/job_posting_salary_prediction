{
 "cells": [
  {
   "cell_type": "markdown",
   "id": "cc2fc48f-dbcc-4e6c-bc0e-8d1e72e670a4",
   "metadata": {},
   "source": [
    "# Salary Prediction from LinkedIn Job Postings - Evaluate Stats Model"
   ]
  },
  {
   "cell_type": "code",
   "execution_count": 1,
   "id": "3375fb27-0be7-4da8-9378-9137587226e2",
   "metadata": {},
   "outputs": [
    {
     "name": "stderr",
     "output_type": "stream",
     "text": [
      "/var/folders/vm/77wrgjgj5wzbyghx353b7gym0000gn/T/ipykernel_80981/991732673.py:1: DeprecationWarning: \n",
      "Pyarrow will become a required dependency of pandas in the next major release of pandas (pandas 3.0),\n",
      "(to allow more performant data types, such as the Arrow string type, and better interoperability with other libraries)\n",
      "but was not found to be installed on your system.\n",
      "If this would cause problems for you,\n",
      "please provide us feedback at https://github.com/pandas-dev/pandas/issues/54466\n",
      "        \n",
      "  import pandas as pd, numpy as np\n"
     ]
    }
   ],
   "source": [
    "import pandas as pd, numpy as np\n",
    "import salary"
   ]
  },
  {
   "cell_type": "markdown",
   "id": "2dcc83ff-8948-46b2-94bd-096093c31122",
   "metadata": {},
   "source": [
    "## Get Datasets"
   ]
  },
  {
   "cell_type": "code",
   "execution_count": 2,
   "id": "021835da",
   "metadata": {},
   "outputs": [
    {
     "name": "stdout",
     "output_type": "stream",
     "text": [
      "<class 'pandas.core.frame.DataFrame'>\n",
      "Index: 28483 entries, 26740 to 15795\n",
      "Data columns (total 15 columns):\n",
      " #   Column                      Non-Null Count  Dtype  \n",
      "---  ------                      --------------  -----  \n",
      " 0   job_id                      28483 non-null  int64  \n",
      " 1   title                       28483 non-null  object \n",
      " 2   location                    28483 non-null  object \n",
      " 3   location_state              28483 non-null  object \n",
      " 4   description                 28483 non-null  object \n",
      " 5   formatted_work_type         28483 non-null  object \n",
      " 6   formatted_experience_level  28483 non-null  object \n",
      " 7   remote_allowed              28483 non-null  float64\n",
      " 8   company_country             28483 non-null  object \n",
      " 9   company_state               28483 non-null  object \n",
      " 10  company_city                28483 non-null  object \n",
      " 11  company_description         27901 non-null  object \n",
      " 12  company_employee_count      28084 non-null  float64\n",
      " 13  pay_period                  28483 non-null  object \n",
      " 14  norm_title                  28483 non-null  object \n",
      "dtypes: float64(2), int64(1), object(12)\n",
      "memory usage: 3.5+ MB\n"
     ]
    }
   ],
   "source": [
    "(df_X_train, df_y_train) = salary.get_train_dataset()\n",
    "df_X_train.info()"
   ]
  },
  {
   "cell_type": "code",
   "execution_count": 3,
   "id": "c0bc1061",
   "metadata": {},
   "outputs": [
    {
     "name": "stdout",
     "output_type": "stream",
     "text": [
      "<class 'pandas.core.frame.DataFrame'>\n",
      "Index: 7121 entries, 3548 to 19960\n",
      "Data columns (total 15 columns):\n",
      " #   Column                      Non-Null Count  Dtype  \n",
      "---  ------                      --------------  -----  \n",
      " 0   job_id                      7121 non-null   int64  \n",
      " 1   title                       7121 non-null   object \n",
      " 2   location                    7121 non-null   object \n",
      " 3   location_state              7121 non-null   object \n",
      " 4   description                 7120 non-null   object \n",
      " 5   formatted_work_type         7121 non-null   object \n",
      " 6   formatted_experience_level  7121 non-null   object \n",
      " 7   remote_allowed              7121 non-null   float64\n",
      " 8   company_country             7121 non-null   object \n",
      " 9   company_state               7121 non-null   object \n",
      " 10  company_city                7121 non-null   object \n",
      " 11  company_description         6979 non-null   object \n",
      " 12  company_employee_count      7022 non-null   float64\n",
      " 13  pay_period                  7121 non-null   object \n",
      " 14  norm_title                  7121 non-null   object \n",
      "dtypes: float64(2), int64(1), object(12)\n",
      "memory usage: 890.1+ KB\n"
     ]
    }
   ],
   "source": [
    "(df_X_test, df_y_test) = salary.get_test_dataset()\n",
    "df_X_test.info()"
   ]
  },
  {
   "cell_type": "markdown",
   "id": "8b6fdf70",
   "metadata": {},
   "source": [
    "## Evaluate Mean Salary Model"
   ]
  },
  {
   "cell_type": "code",
   "execution_count": 4,
   "id": "746207dc",
   "metadata": {},
   "outputs": [
    {
     "name": "stdout",
     "output_type": "stream",
     "text": [
      "Train R2: 0.1437\n",
      "Test R2: 0.1295\n",
      "Train RMSE: 56712.9427\n",
      "Test RMSE: 55652.1597\n",
      "Train MAE: 35528.2230\n",
      "Test MAE: 35861.2875\n",
      "On average, our predicted salaries are $35861.29 off the true salaries\n",
      "This is 18.11% better than a naive global mean\n"
     ]
    }
   ],
   "source": [
    "Xy_train = df_X_train.assign(salary=df_y_train)\n",
    "salaries = Xy_train.groupby('norm_title')['salary'].mean()\n",
    "salary_median = Xy_train['salary'].mean()\n",
    "\n",
    "y_train_pred = [\n",
    "    salaries.loc[title] if title in salaries.index else salary_median\n",
    "    for title in df_X_train['norm_title']\n",
    "]\n",
    "y_test_pred = [\n",
    "    salaries.loc[title] if title in salaries.index else salary_median\n",
    "    for title in df_X_test['norm_title']\n",
    "]\n",
    "     \n",
    "salary.evaluate_train_test_predictions(y_train_pred, y_test_pred)"
   ]
  },
  {
   "cell_type": "markdown",
   "id": "7d1a3232",
   "metadata": {},
   "source": [
    "## Evaluate Median Salary Model"
   ]
  },
  {
   "cell_type": "code",
   "execution_count": 5,
   "id": "06d3b38b",
   "metadata": {},
   "outputs": [
    {
     "name": "stdout",
     "output_type": "stream",
     "text": [
      "Train R2: 0.1353\n",
      "Test R2: 0.1181\n",
      "Train RMSE: 56991.4807\n",
      "Test RMSE: 56016.6317\n",
      "Train MAE: 35193.1999\n",
      "Test MAE: 35556.9192\n",
      "On average, our predicted salaries are $35556.92 off the true salaries\n",
      "This is 18.81% better than a naive global mean\n"
     ]
    }
   ],
   "source": [
    "Xy_train = df_X_train.assign(salary=df_y_train)\n",
    "salaries = Xy_train.groupby('norm_title')['salary'].median()\n",
    "salary_median = Xy_train['salary'].median()\n",
    "\n",
    "y_train_pred = [\n",
    "    salaries.loc[title] if title in salaries.index else salary_median\n",
    "    for title in df_X_train['norm_title']\n",
    "]\n",
    "y_test_pred = [\n",
    "    salaries.loc[title] if title in salaries.index else salary_median\n",
    "    for title in df_X_test['norm_title']\n",
    "]\n",
    "     \n",
    "salary.evaluate_train_test_predictions(y_train_pred, y_test_pred)"
   ]
  }
 ],
 "metadata": {
  "kernelspec": {
   "display_name": "venv",
   "language": "python",
   "name": "python3"
  },
  "language_info": {
   "codemirror_mode": {
    "name": "ipython",
    "version": 3
   },
   "file_extension": ".py",
   "mimetype": "text/x-python",
   "name": "python",
   "nbconvert_exporter": "python",
   "pygments_lexer": "ipython3",
   "version": "3.12.9"
  }
 },
 "nbformat": 4,
 "nbformat_minor": 5
}
