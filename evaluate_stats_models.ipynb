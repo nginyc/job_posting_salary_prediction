{
 "cells": [
  {
   "cell_type": "markdown",
   "id": "cc2fc48f-dbcc-4e6c-bc0e-8d1e72e670a4",
   "metadata": {},
   "source": [
    "# Salary Prediction from LinkedIn Job Postings - Evaluate Stats Model"
   ]
  },
  {
   "cell_type": "code",
   "execution_count": 1,
   "id": "3375fb27-0be7-4da8-9378-9137587226e2",
   "metadata": {},
   "outputs": [
    {
     "name": "stderr",
     "output_type": "stream",
     "text": [
      "/var/folders/vm/77wrgjgj5wzbyghx353b7gym0000gn/T/ipykernel_32599/830439244.py:1: DeprecationWarning: \n",
      "Pyarrow will become a required dependency of pandas in the next major release of pandas (pandas 3.0),\n",
      "(to allow more performant data types, such as the Arrow string type, and better interoperability with other libraries)\n",
      "but was not found to be installed on your system.\n",
      "If this would cause problems for you,\n",
      "please provide us feedback at https://github.com/pandas-dev/pandas/issues/54466\n",
      "        \n",
      "  import pandas as pd, numpy as np\n"
     ]
    }
   ],
   "source": [
    "import pandas as pd, numpy as np\n",
    "import salary\n",
    "from sklearn.base import BaseEstimator"
   ]
  },
  {
   "cell_type": "markdown",
   "id": "d5874f97",
   "metadata": {},
   "source": [
    "## Evaluate Mean & Median by Norm Title Models"
   ]
  },
  {
   "cell_type": "code",
   "execution_count": 2,
   "id": "ac70ed28",
   "metadata": {},
   "outputs": [],
   "source": [
    "(X_train, y_train) = salary.get_train_dataset()\n",
    "(X_test, y_test) = salary.get_test_dataset()"
   ]
  },
  {
   "cell_type": "code",
   "execution_count": 3,
   "id": "7df6f6d2",
   "metadata": {},
   "outputs": [
    {
     "name": "stdout",
     "output_type": "stream",
     "text": [
      "Test R2: 0.1879\n",
      "Test RMSE: 52536.1178\n",
      "Test MAE: 36461.6068\n",
      "On average, our predicted salaries are $36461.61 off the true salaries\n",
      "This is 16.03% better than a naive global mean\n"
     ]
    }
   ],
   "source": [
    "class MeanSalaryEstimator(BaseEstimator):\n",
    "    def fit(self, X: pd.DataFrame, y):\n",
    "        Xy = X.copy()\n",
    "        Xy['salary'] = y\n",
    "        self._salaries_by_title = Xy.groupby('norm_title')['salary'].mean()\n",
    "        self._global_salary = Xy['salary'].mean()\n",
    "        return self\n",
    "    \n",
    "    def predict(self, X):\n",
    "        return np.array([\n",
    "            self._salaries_by_title.loc[title] if title in self._salaries_by_title.index else self._global_salary\n",
    "            for title in X['norm_title']\n",
    "        ])\n",
    "\n",
    "model = MeanSalaryEstimator().fit(X_train, y_train)\n",
    "y_pred = model.predict(X_test)\n",
    "salary.evaluate_test_predictions(y_pred)"
   ]
  },
  {
   "cell_type": "code",
   "execution_count": null,
   "id": "3b210356",
   "metadata": {},
   "outputs": [
    {
     "name": "stdout",
     "output_type": "stream",
     "text": [
      "Test R2: 0.1391\n",
      "Test RMSE: 54090.8397\n",
      "Test MAE: 34812.4539\n",
      "On average, our predicted salaries are $34812.45 off the true salaries\n",
      "This is 19.82% better than a naive global mean\n"
     ]
    }
   ],
   "source": [
    "class MedianSalaryEstimator(BaseEstimator):\n",
    "    def fit(self, X: pd.DataFrame, y):\n",
    "        Xy = X.copy()\n",
    "        Xy['salary'] = y\n",
    "        self._salaries_by_title = Xy.groupby('norm_title')['salary'].median()\n",
    "        self._global_salary = Xy['salary'].median()\n",
    "        return self\n",
    "    \n",
    "    def predict(self, X):\n",
    "        return np.array([\n",
    "            self._salaries_by_title.loc[title] if title in self._salaries_by_title.index else self._global_salary\n",
    "            for title in X['norm_title']\n",
    "        ])\n",
    "    \n",
    "model = MedianSalaryEstimator().fit(X_train, y_train)\n",
    "y_pred = model.predict(X_test)\n",
    "salary.evaluate_test_predictions(y_pred)"
   ]
  }
 ],
 "metadata": {
  "kernelspec": {
   "display_name": "venv",
   "language": "python",
   "name": "python3"
  },
  "language_info": {
   "codemirror_mode": {
    "name": "ipython",
    "version": 3
   },
   "file_extension": ".py",
   "mimetype": "text/x-python",
   "name": "python",
   "nbconvert_exporter": "python",
   "pygments_lexer": "ipython3",
   "version": "3.12.9"
  }
 },
 "nbformat": 4,
 "nbformat_minor": 5
}
