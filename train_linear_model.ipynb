{
 "cells": [
  {
   "cell_type": "markdown",
   "id": "cc2fc48f-dbcc-4e6c-bc0e-8d1e72e670a4",
   "metadata": {},
   "source": [
    "# Salary Prediction from LinkedIn Job Postings - Train Linear Model"
   ]
  },
  {
   "cell_type": "code",
   "execution_count": 1,
   "id": "3375fb27-0be7-4da8-9378-9137587226e2",
   "metadata": {},
   "outputs": [
    {
     "name": "stderr",
     "output_type": "stream",
     "text": [
      "/var/folders/vm/77wrgjgj5wzbyghx353b7gym0000gn/T/ipykernel_2823/3926545994.py:1: DeprecationWarning: \n",
      "Pyarrow will become a required dependency of pandas in the next major release of pandas (pandas 3.0),\n",
      "(to allow more performant data types, such as the Arrow string type, and better interoperability with other libraries)\n",
      "but was not found to be installed on your system.\n",
      "If this would cause problems for you,\n",
      "please provide us feedback at https://github.com/pandas-dev/pandas/issues/54466\n",
      "        \n",
      "  import pandas as pd, numpy as np\n",
      "/Users/nginyc/repos/job_posting_salary_prediction/venv/lib/python3.12/site-packages/tqdm/auto.py:21: TqdmWarning: IProgress not found. Please update jupyter and ipywidgets. See https://ipywidgets.readthedocs.io/en/stable/user_install.html\n",
      "  from .autonotebook import tqdm as notebook_tqdm\n"
     ]
    }
   ],
   "source": [
    "import pandas as pd, numpy as np\n",
    "import salary\n",
    "from sklearn.pipeline import make_pipeline\n",
    "from sklearn.compose import ColumnTransformer\n",
    "from sklearn.preprocessing import StandardScaler\n",
    "from category_encoders import TargetEncoder, OneHotEncoder\n",
    "from sklearn.impute import SimpleImputer\n",
    "from sklearn.linear_model import LinearRegression"
   ]
  },
  {
   "cell_type": "markdown",
   "id": "d9ea2ba1",
   "metadata": {},
   "source": [
    "## Train & Evaluate Model"
   ]
  },
  {
   "cell_type": "code",
   "execution_count": 2,
   "id": "d149ea96",
   "metadata": {},
   "outputs": [],
   "source": [
    "(X_train, y_train) = salary.get_train_dataset()\n",
    "(X_test, y_test) = salary.get_test_dataset()"
   ]
  },
  {
   "cell_type": "markdown",
   "id": "d36b6dc1",
   "metadata": {},
   "source": [
    "### Use Target Encoded Norm Title"
   ]
  },
  {
   "cell_type": "code",
   "execution_count": 3,
   "id": "021835da",
   "metadata": {},
   "outputs": [
    {
     "name": "stdout",
     "output_type": "stream",
     "text": [
      "Train R2: 0.3206\n",
      "Train RMSE: 50703.6108\n",
      "Train MAE: 32762.3632\n"
     ]
    }
   ],
   "source": [
    "model = make_pipeline(\n",
    "    ColumnTransformer(\n",
    "        transformers=[\n",
    "            ('target_encoder', TargetEncoder(), ['norm_title', 'location_state', 'company_industries']),\n",
    "            ('one_hot_encoder', OneHotEncoder(use_cat_names=True), ['clustered_edu_req', 'clustered_pref_qual']),\n",
    "            ('experience_level', salary.experience_level_encoder, ['formatted_experience_level']),\n",
    "            ('work_type', salary.work_type_encoder, ['formatted_work_type']),\n",
    "            ('remote_allowed', 'passthrough', ['remote_allowed']),\n",
    "            ('company_employee_count', SimpleImputer(strategy='median'), ['company_employee_count']),\n",
    "        ],\n",
    "        remainder='drop'\n",
    "    ),\n",
    "    StandardScaler(),\n",
    "    LinearRegression()\n",
    ").fit(X_train, y_train)\n",
    "\n",
    "salary.evaluate_train_predictions(model.predict(X_train))"
   ]
  },
  {
   "cell_type": "code",
   "execution_count": 4,
   "id": "b06908fe",
   "metadata": {},
   "outputs": [
    {
     "name": "stdout",
     "output_type": "stream",
     "text": [
      "Test R2: 0.3453\n",
      "Test RMSE: 47170.4934\n",
      "Test MAE: 31705.0478\n",
      "On average, our predicted salaries are $31705.05 off the true salaries\n",
      "This is 26.98% better than a naive global mean\n"
     ]
    }
   ],
   "source": [
    "salary.evaluate_test_predictions(model.predict(X_test))"
   ]
  },
  {
   "cell_type": "code",
   "execution_count": 5,
   "id": "51f2e71a",
   "metadata": {},
   "outputs": [
    {
     "data": {
      "text/html": [
       "<div>\n",
       "<style scoped>\n",
       "    .dataframe tbody tr th:only-of-type {\n",
       "        vertical-align: middle;\n",
       "    }\n",
       "\n",
       "    .dataframe tbody tr th {\n",
       "        vertical-align: top;\n",
       "    }\n",
       "\n",
       "    .dataframe thead th {\n",
       "        text-align: right;\n",
       "    }\n",
       "</style>\n",
       "<table border=\"1\" class=\"dataframe\">\n",
       "  <thead>\n",
       "    <tr style=\"text-align: right;\">\n",
       "      <th></th>\n",
       "      <th>Feature</th>\n",
       "      <th>Coefficient</th>\n",
       "    </tr>\n",
       "  </thead>\n",
       "  <tbody>\n",
       "    <tr>\n",
       "      <th>0</th>\n",
       "      <td>target_encoder__norm_title</td>\n",
       "      <td>14945.046092</td>\n",
       "    </tr>\n",
       "    <tr>\n",
       "      <th>1</th>\n",
       "      <td>target_encoder__company_industries</td>\n",
       "      <td>11350.397682</td>\n",
       "    </tr>\n",
       "    <tr>\n",
       "      <th>2</th>\n",
       "      <td>experience_level__formatted_experience_level</td>\n",
       "      <td>8959.952047</td>\n",
       "    </tr>\n",
       "    <tr>\n",
       "      <th>3</th>\n",
       "      <td>target_encoder__location_state</td>\n",
       "      <td>7841.901902</td>\n",
       "    </tr>\n",
       "    <tr>\n",
       "      <th>4</th>\n",
       "      <td>one_hot_encoder__clustered_edu_req_High school diploma or equivalent</td>\n",
       "      <td>-5927.892107</td>\n",
       "    </tr>\n",
       "    <tr>\n",
       "      <th>5</th>\n",
       "      <td>work_type__formatted_work_type</td>\n",
       "      <td>4665.718782</td>\n",
       "    </tr>\n",
       "    <tr>\n",
       "      <th>6</th>\n",
       "      <td>one_hot_encoder__clustered_edu_req_Graduate of an accredited program and board certified.</td>\n",
       "      <td>4042.391286</td>\n",
       "    </tr>\n",
       "    <tr>\n",
       "      <th>7</th>\n",
       "      <td>company_employee_count__company_employee_count</td>\n",
       "      <td>4016.36807</td>\n",
       "    </tr>\n",
       "    <tr>\n",
       "      <th>8</th>\n",
       "      <td>one_hot_encoder__clustered_edu_req_High school diploma/GED/equivalent preferred</td>\n",
       "      <td>-3982.946281</td>\n",
       "    </tr>\n",
       "    <tr>\n",
       "      <th>9</th>\n",
       "      <td>one_hot_encoder__clustered_edu_req_Bachelor's degree in Computer Science, Information Systems, Computer Engineering or related field</td>\n",
       "      <td>3801.580706</td>\n",
       "    </tr>\n",
       "  </tbody>\n",
       "</table>\n",
       "</div>"
      ],
      "text/plain": [
       "                                                                                                                                Feature  \\\n",
       "0                                                                                                            target_encoder__norm_title   \n",
       "1                                                                                                    target_encoder__company_industries   \n",
       "2                                                                                          experience_level__formatted_experience_level   \n",
       "3                                                                                                        target_encoder__location_state   \n",
       "4                                                                  one_hot_encoder__clustered_edu_req_High school diploma or equivalent   \n",
       "5                                                                                                        work_type__formatted_work_type   \n",
       "6                                             one_hot_encoder__clustered_edu_req_Graduate of an accredited program and board certified.   \n",
       "7                                                                                        company_employee_count__company_employee_count   \n",
       "8                                                       one_hot_encoder__clustered_edu_req_High school diploma/GED/equivalent preferred   \n",
       "9  one_hot_encoder__clustered_edu_req_Bachelor's degree in Computer Science, Information Systems, Computer Engineering or related field   \n",
       "\n",
       "    Coefficient  \n",
       "0  14945.046092  \n",
       "1  11350.397682  \n",
       "2   8959.952047  \n",
       "3   7841.901902  \n",
       "4  -5927.892107  \n",
       "5   4665.718782  \n",
       "6   4042.391286  \n",
       "7    4016.36807  \n",
       "8  -3982.946281  \n",
       "9   3801.580706  "
      ]
     },
     "execution_count": 5,
     "metadata": {},
     "output_type": "execute_result"
    }
   ],
   "source": [
    "def get_important_features(model, n=10):\n",
    "    feature_names = model[:-1].get_feature_names_out(salary.df_X.columns)\n",
    "    coef = model[-1].coef_\n",
    "    idxs = np.flip(np.argsort(np.abs(coef))[-n:])\n",
    "    pd.set_option('display.max_colwidth', None)\n",
    "    return pd.DataFrame([feature_names[idxs], coef[idxs]], index=[\"Feature\", \"Coefficient\"]).transpose()\n",
    "\n",
    "get_important_features(model)"
   ]
  },
  {
   "cell_type": "markdown",
   "id": "d90b24aa",
   "metadata": {},
   "source": [
    "### Use One Hot Encoded Norm Title"
   ]
  },
  {
   "cell_type": "code",
   "execution_count": 9,
   "id": "0cbd142b",
   "metadata": {},
   "outputs": [
    {
     "name": "stdout",
     "output_type": "stream",
     "text": [
      "Train R2: 0.3278\n",
      "Train RMSE: 50434.0217\n",
      "Train MAE: 32505.3833\n"
     ]
    }
   ],
   "source": [
    "model = make_pipeline(\n",
    "    ColumnTransformer(\n",
    "        transformers=[\n",
    "            ('one_hot_encoder', OneHotEncoder(use_cat_names=True), ['norm_title', 'clustered_edu_req', 'clustered_pref_qual']),\n",
    "            ('target_encoder', TargetEncoder(), ['location_state', 'company_industries']),\n",
    "            ('experience_level', salary.experience_level_encoder, ['formatted_experience_level']),\n",
    "            ('work_type', salary.work_type_encoder, ['formatted_work_type']),\n",
    "            ('remote_allowed', 'passthrough', ['remote_allowed']),\n",
    "            ('company_employee_count', SimpleImputer(strategy='median'), ['company_employee_count']),\n",
    "        ],\n",
    "        remainder='drop'\n",
    "    ),\n",
    "    StandardScaler(),\n",
    "    LinearRegression()\n",
    ").fit(X_train, y_train)\n",
    "\n",
    "salary.evaluate_train_predictions(model.predict(X_train))"
   ]
  },
  {
   "cell_type": "code",
   "execution_count": 10,
   "id": "9d857bc8",
   "metadata": {},
   "outputs": [
    {
     "name": "stdout",
     "output_type": "stream",
     "text": [
      "Test R2: 0.3517\n",
      "Test RMSE: 46938.5885\n",
      "Test MAE: 31566.7545\n",
      "On average, our predicted salaries are $31566.75 off the true salaries\n",
      "This is 27.30% better than a naive global mean\n"
     ]
    }
   ],
   "source": [
    "salary.evaluate_test_predictions(model.predict(X_test))"
   ]
  },
  {
   "cell_type": "code",
   "execution_count": 11,
   "id": "34dca7a3",
   "metadata": {},
   "outputs": [
    {
     "data": {
      "text/html": [
       "<div>\n",
       "<style scoped>\n",
       "    .dataframe tbody tr th:only-of-type {\n",
       "        vertical-align: middle;\n",
       "    }\n",
       "\n",
       "    .dataframe tbody tr th {\n",
       "        vertical-align: top;\n",
       "    }\n",
       "\n",
       "    .dataframe thead th {\n",
       "        text-align: right;\n",
       "    }\n",
       "</style>\n",
       "<table border=\"1\" class=\"dataframe\">\n",
       "  <thead>\n",
       "    <tr style=\"text-align: right;\">\n",
       "      <th></th>\n",
       "      <th>Feature</th>\n",
       "      <th>Coefficient</th>\n",
       "    </tr>\n",
       "  </thead>\n",
       "  <tbody>\n",
       "    <tr>\n",
       "      <th>0</th>\n",
       "      <td>target_encoder__company_industries</td>\n",
       "      <td>12446.636983</td>\n",
       "    </tr>\n",
       "    <tr>\n",
       "      <th>1</th>\n",
       "      <td>experience_level__formatted_experience_level</td>\n",
       "      <td>9080.783945</td>\n",
       "    </tr>\n",
       "    <tr>\n",
       "      <th>2</th>\n",
       "      <td>target_encoder__location_state</td>\n",
       "      <td>7832.830774</td>\n",
       "    </tr>\n",
       "    <tr>\n",
       "      <th>3</th>\n",
       "      <td>one_hot_encoder__clustered_edu_req_High school diploma or equivalent</td>\n",
       "      <td>-6000.923728</td>\n",
       "    </tr>\n",
       "    <tr>\n",
       "      <th>4</th>\n",
       "      <td>work_type__formatted_work_type</td>\n",
       "      <td>4860.448553</td>\n",
       "    </tr>\n",
       "    <tr>\n",
       "      <th>5</th>\n",
       "      <td>one_hot_encoder__norm_title_Senior Software Engineer</td>\n",
       "      <td>4342.687627</td>\n",
       "    </tr>\n",
       "    <tr>\n",
       "      <th>6</th>\n",
       "      <td>one_hot_encoder__clustered_edu_req_High school diploma/GED/equivalent preferred</td>\n",
       "      <td>-4316.203809</td>\n",
       "    </tr>\n",
       "    <tr>\n",
       "      <th>7</th>\n",
       "      <td>one_hot_encoder__clustered_edu_req_Bachelor's degree in Computer Science, Information Systems, Computer Engineering or related field</td>\n",
       "      <td>4090.644541</td>\n",
       "    </tr>\n",
       "    <tr>\n",
       "      <th>8</th>\n",
       "      <td>company_employee_count__company_employee_count</td>\n",
       "      <td>3809.344928</td>\n",
       "    </tr>\n",
       "    <tr>\n",
       "      <th>9</th>\n",
       "      <td>one_hot_encoder__norm_title_Customer Service Representative</td>\n",
       "      <td>-3544.379863</td>\n",
       "    </tr>\n",
       "  </tbody>\n",
       "</table>\n",
       "</div>"
      ],
      "text/plain": [
       "                                                                                                                                Feature  \\\n",
       "0                                                                                                    target_encoder__company_industries   \n",
       "1                                                                                          experience_level__formatted_experience_level   \n",
       "2                                                                                                        target_encoder__location_state   \n",
       "3                                                                  one_hot_encoder__clustered_edu_req_High school diploma or equivalent   \n",
       "4                                                                                                        work_type__formatted_work_type   \n",
       "5                                                                                  one_hot_encoder__norm_title_Senior Software Engineer   \n",
       "6                                                       one_hot_encoder__clustered_edu_req_High school diploma/GED/equivalent preferred   \n",
       "7  one_hot_encoder__clustered_edu_req_Bachelor's degree in Computer Science, Information Systems, Computer Engineering or related field   \n",
       "8                                                                                        company_employee_count__company_employee_count   \n",
       "9                                                                           one_hot_encoder__norm_title_Customer Service Representative   \n",
       "\n",
       "    Coefficient  \n",
       "0  12446.636983  \n",
       "1   9080.783945  \n",
       "2   7832.830774  \n",
       "3  -6000.923728  \n",
       "4   4860.448553  \n",
       "5   4342.687627  \n",
       "6  -4316.203809  \n",
       "7   4090.644541  \n",
       "8   3809.344928  \n",
       "9  -3544.379863  "
      ]
     },
     "execution_count": 11,
     "metadata": {},
     "output_type": "execute_result"
    }
   ],
   "source": [
    "get_important_features(model)"
   ]
  },
  {
   "cell_type": "markdown",
   "id": "2ec99500",
   "metadata": {},
   "source": [
    "### Use Sentence BERT Encoded Title "
   ]
  },
  {
   "cell_type": "code",
   "execution_count": 12,
   "id": "67e7a929",
   "metadata": {},
   "outputs": [
    {
     "name": "stdout",
     "output_type": "stream",
     "text": [
      "Train R2: 0.5121\n",
      "Train RMSE: 42969.0981\n",
      "Train MAE: 27391.3154\n"
     ]
    }
   ],
   "source": [
    "model_log = make_pipeline(\n",
    "    ColumnTransformer(\n",
    "        transformers=[\n",
    "            ('sentence_bert_encoder', salary.SentenceBertEncoder(), ['title']),\n",
    "            ('one_hot_encoder', OneHotEncoder(use_cat_names=True), ['clustered_edu_req', 'clustered_pref_qual']),\n",
    "            ('target_encoder', TargetEncoder(), ['location_state', 'company_industries']),\n",
    "            ('experience_level', salary.experience_level_encoder, ['formatted_experience_level']),\n",
    "            ('work_type', salary.work_type_encoder, ['formatted_work_type']),\n",
    "            ('remote_allowed', 'passthrough', ['remote_allowed']),\n",
    "            ('company_employee_count', SimpleImputer(strategy='median'), ['company_employee_count']),\n",
    "        ],\n",
    "        remainder='drop'\n",
    "    ),\n",
    "    StandardScaler(),\n",
    "    LinearRegression(),\n",
    ").fit(X_train, y_train)\n",
    "\n",
    "salary.evaluate_train_predictions(model_log.predict(X_train))"
   ]
  },
  {
   "cell_type": "code",
   "execution_count": 13,
   "id": "382c8326",
   "metadata": {},
   "outputs": [
    {
     "name": "stdout",
     "output_type": "stream",
     "text": [
      "Test R2: 0.5104\n",
      "Test RMSE: 40791.4484\n",
      "Test MAE: 27679.9335\n",
      "On average, our predicted salaries are $27679.93 off the true salaries\n",
      "This is 36.25% better than a naive global mean\n"
     ]
    }
   ],
   "source": [
    "salary.evaluate_test_predictions(model_log.predict(X_test))"
   ]
  }
 ],
 "metadata": {
  "kernelspec": {
   "display_name": "venv",
   "language": "python",
   "name": "python3"
  },
  "language_info": {
   "codemirror_mode": {
    "name": "ipython",
    "version": 3
   },
   "file_extension": ".py",
   "mimetype": "text/x-python",
   "name": "python",
   "nbconvert_exporter": "python",
   "pygments_lexer": "ipython3",
   "version": "3.12.9"
  }
 },
 "nbformat": 4,
 "nbformat_minor": 5
}
