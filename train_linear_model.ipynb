{
 "cells": [
  {
   "cell_type": "markdown",
   "id": "cc2fc48f-dbcc-4e6c-bc0e-8d1e72e670a4",
   "metadata": {},
   "source": [
    "# Salary Prediction from LinkedIn Job Postings - Train Linear Model"
   ]
  },
  {
   "cell_type": "code",
   "execution_count": 15,
   "id": "3375fb27-0be7-4da8-9378-9137587226e2",
   "metadata": {},
   "outputs": [],
   "source": [
    "import pandas as pd, numpy as np\n",
    "import salary\n",
    "from sklearn.pipeline import make_pipeline\n",
    "from sklearn.compose import ColumnTransformer\n",
    "from sklearn.preprocessing import StandardScaler\n",
    "from category_encoders import TargetEncoder\n",
    "from sklearn.compose import TransformedTargetRegressor\n",
    "from sklearn.impute import SimpleImputer\n",
    "from sklearn.linear_model import LinearRegression"
   ]
  },
  {
   "cell_type": "markdown",
   "id": "d9ea2ba1",
   "metadata": {},
   "source": [
    "## Train & Evaluate Model"
   ]
  },
  {
   "cell_type": "code",
   "execution_count": 22,
   "id": "d149ea96",
   "metadata": {},
   "outputs": [],
   "source": [
    "(X_train, y_train) = salary.get_train_dataset()\n",
    "(X_test, y_test) = salary.get_test_dataset()"
   ]
  },
  {
   "cell_type": "markdown",
   "id": "d36b6dc1",
   "metadata": {},
   "source": [
    "### Target normal salaries"
   ]
  },
  {
   "cell_type": "code",
   "execution_count": 23,
   "id": "021835da",
   "metadata": {},
   "outputs": [
    {
     "name": "stdout",
     "output_type": "stream",
     "text": [
      "Train R2: 0.2871\n",
      "Train RMSE: 51938.1146\n",
      "Train MAE: 33856.9255\n"
     ]
    }
   ],
   "source": [
    "model = make_pipeline(\n",
    "    ColumnTransformer(\n",
    "        transformers=[\n",
    "            ('target_encoder', TargetEncoder(), ['norm_title', 'location_state', 'company_industries']),\n",
    "            ('experience_level', salary.experience_level_encoder, ['formatted_experience_level']),\n",
    "            ('work_type', salary.work_type_encoder, ['formatted_work_type']),\n",
    "            ('remote_allowed', 'passthrough', ['remote_allowed']),\n",
    "            ('company_employee_count', SimpleImputer(strategy='median'), ['company_employee_count']),\n",
    "        ],\n",
    "        remainder='drop'\n",
    "    ),\n",
    "    StandardScaler(),\n",
    "    LinearRegression()\n",
    ").fit(X_train, y_train)\n",
    "\n",
    "salary.evaluate_train_predictions(model.predict(X_train))"
   ]
  },
  {
   "cell_type": "code",
   "execution_count": 24,
   "id": "b06908fe",
   "metadata": {},
   "outputs": [
    {
     "name": "stdout",
     "output_type": "stream",
     "text": [
      "Test R2: 0.3001\n",
      "Test RMSE: 48771.0521\n",
      "Test MAE: 33035.1214\n",
      "On average, our predicted salaries are $33035.12 off the true salaries\n",
      "This is 23.92% better than a naive global mean\n"
     ]
    }
   ],
   "source": [
    "salary.evaluate_test_predictions(model.predict(X_test))"
   ]
  },
  {
   "cell_type": "markdown",
   "id": "2ec99500",
   "metadata": {},
   "source": [
    "### Target log salaries"
   ]
  },
  {
   "cell_type": "code",
   "execution_count": 25,
   "id": "67e7a929",
   "metadata": {},
   "outputs": [
    {
     "name": "stdout",
     "output_type": "stream",
     "text": [
      "Train R2: 0.2648\n",
      "Train RMSE: 52743.4027\n",
      "Train MAE: 32497.8812\n"
     ]
    }
   ],
   "source": [
    "model_log = make_pipeline(\n",
    "    ColumnTransformer(\n",
    "        transformers=[\n",
    "            ('target_encoder', TargetEncoder(), ['norm_title', 'location_state', 'company_industries']),\n",
    "            ('experience_level', salary.experience_level_encoder, ['formatted_experience_level']),\n",
    "            ('work_type', salary.work_type_encoder, ['formatted_work_type']),\n",
    "            ('remote_allowed', 'passthrough', ['remote_allowed']),\n",
    "            ('company_employee_count', SimpleImputer(strategy='median'), ['company_employee_count']),\n",
    "        ],\n",
    "        remainder='drop'\n",
    "    ),\n",
    "    StandardScaler(),\n",
    "    TransformedTargetRegressor(\n",
    "        regressor=LinearRegression(),\n",
    "        func=np.log10,\n",
    "        inverse_func=lambda x: 10**x\n",
    "    )\n",
    ").fit(X_train, y_train)\n",
    "\n",
    "salary.evaluate_train_predictions(model_log.predict(X_train))"
   ]
  },
  {
   "cell_type": "code",
   "execution_count": 26,
   "id": "382c8326",
   "metadata": {},
   "outputs": [
    {
     "name": "stdout",
     "output_type": "stream",
     "text": [
      "Test R2: 0.2764\n",
      "Test RMSE: 49591.8276\n",
      "Test MAE: 31890.9241\n",
      "On average, our predicted salaries are $31890.92 off the true salaries\n",
      "This is 26.55% better than a naive global mean\n"
     ]
    }
   ],
   "source": [
    "salary.evaluate_test_predictions(model_log.predict(X_test))"
   ]
  },
  {
   "cell_type": "markdown",
   "id": "8f961d65",
   "metadata": {},
   "source": [
    "## Feature Importance"
   ]
  },
  {
   "cell_type": "code",
   "execution_count": 28,
   "id": "5d50a265",
   "metadata": {},
   "outputs": [
    {
     "data": {
      "text/html": [
       "<div>\n",
       "<style scoped>\n",
       "    .dataframe tbody tr th:only-of-type {\n",
       "        vertical-align: middle;\n",
       "    }\n",
       "\n",
       "    .dataframe tbody tr th {\n",
       "        vertical-align: top;\n",
       "    }\n",
       "\n",
       "    .dataframe thead th {\n",
       "        text-align: right;\n",
       "    }\n",
       "</style>\n",
       "<table border=\"1\" class=\"dataframe\">\n",
       "  <thead>\n",
       "    <tr style=\"text-align: right;\">\n",
       "      <th></th>\n",
       "      <th>Feature</th>\n",
       "      <th>Coefficient</th>\n",
       "    </tr>\n",
       "  </thead>\n",
       "  <tbody>\n",
       "    <tr>\n",
       "      <th>0</th>\n",
       "      <td>target_encoder__norm_title</td>\n",
       "      <td>16881.847526</td>\n",
       "    </tr>\n",
       "    <tr>\n",
       "      <th>1</th>\n",
       "      <td>target_encoder__company_industries</td>\n",
       "      <td>13444.209279</td>\n",
       "    </tr>\n",
       "    <tr>\n",
       "      <th>2</th>\n",
       "      <td>experience_level__formatted_experience_level</td>\n",
       "      <td>9477.919424</td>\n",
       "    </tr>\n",
       "    <tr>\n",
       "      <th>3</th>\n",
       "      <td>target_encoder__location_state</td>\n",
       "      <td>8459.760909</td>\n",
       "    </tr>\n",
       "    <tr>\n",
       "      <th>4</th>\n",
       "      <td>work_type__formatted_work_type</td>\n",
       "      <td>4062.875979</td>\n",
       "    </tr>\n",
       "    <tr>\n",
       "      <th>5</th>\n",
       "      <td>company_employee_count__company_employee_count</td>\n",
       "      <td>3911.625007</td>\n",
       "    </tr>\n",
       "    <tr>\n",
       "      <th>6</th>\n",
       "      <td>remote_allowed__remote_allowed</td>\n",
       "      <td>1138.654533</td>\n",
       "    </tr>\n",
       "  </tbody>\n",
       "</table>\n",
       "</div>"
      ],
      "text/plain": [
       "                                          Feature   Coefficient\n",
       "0                      target_encoder__norm_title  16881.847526\n",
       "1              target_encoder__company_industries  13444.209279\n",
       "2    experience_level__formatted_experience_level   9477.919424\n",
       "3                  target_encoder__location_state   8459.760909\n",
       "4                  work_type__formatted_work_type   4062.875979\n",
       "5  company_employee_count__company_employee_count   3911.625007\n",
       "6                  remote_allowed__remote_allowed   1138.654533"
      ]
     },
     "execution_count": 28,
     "metadata": {},
     "output_type": "execute_result"
    }
   ],
   "source": [
    "feature_names = model[:-1].get_feature_names_out(salary.df_X.columns)\n",
    "\n",
    "def get_important_features(coef, n=10):\n",
    "    idxs = np.flip(np.argsort(np.abs(coef))[-n:])\n",
    "    return pd.DataFrame([feature_names[idxs], coef[idxs]], index=[\"Feature\", \"Coefficient\"]).transpose()\n",
    "\n",
    "get_important_features(model[-1].coef_)"
   ]
  }
 ],
 "metadata": {
  "kernelspec": {
   "display_name": "venv",
   "language": "python",
   "name": "python3"
  },
  "language_info": {
   "codemirror_mode": {
    "name": "ipython",
    "version": 3
   },
   "file_extension": ".py",
   "mimetype": "text/x-python",
   "name": "python",
   "nbconvert_exporter": "python",
   "pygments_lexer": "ipython3",
   "version": "3.12.9"
  }
 },
 "nbformat": 4,
 "nbformat_minor": 5
}
