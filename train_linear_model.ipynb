{
 "cells": [
  {
   "cell_type": "markdown",
   "id": "cc2fc48f-dbcc-4e6c-bc0e-8d1e72e670a4",
   "metadata": {},
   "source": [
    "# Train Linear Model"
   ]
  },
  {
   "cell_type": "code",
   "execution_count": 19,
   "id": "3375fb27-0be7-4da8-9378-9137587226e2",
   "metadata": {},
   "outputs": [],
   "source": [
    "import salary\n",
    "from sklearn.base import clone\n",
    "from sklearn.pipeline import make_pipeline\n",
    "from sklearn.linear_model import Ridge, Lasso, ElasticNet\n",
    "from skopt import BayesSearchCV\n",
    "import numpy as np\n",
    "from sklearn.model_selection import KFold"
   ]
  },
  {
   "cell_type": "code",
   "execution_count": 20,
   "id": "d149ea96",
   "metadata": {},
   "outputs": [],
   "source": [
    "(X_train, y_train) = salary.get_train_dataset(include_extracted_salaries=True)"
   ]
  },
  {
   "cell_type": "code",
   "execution_count": 21,
   "id": "11bda6cc",
   "metadata": {},
   "outputs": [
    {
     "data": {
      "text/plain": [
       "(32103, 3670)"
      ]
     },
     "execution_count": 21,
     "metadata": {},
     "output_type": "execute_result"
    }
   ],
   "source": [
    "preprocessor = salary.get_preprocessor()\n",
    "(train_size, num_features) = clone(preprocessor).fit_transform(X_train, y_train).shape\n",
    "(train_size, num_features)"
   ]
  },
  {
   "cell_type": "markdown",
   "id": "1d25e0a7",
   "metadata": {},
   "source": [
    "## Train & Tune Lasso (L1)"
   ]
  },
  {
   "cell_type": "code",
   "execution_count": 22,
   "id": "df24d928",
   "metadata": {},
   "outputs": [
    {
     "name": "stdout",
     "output_type": "stream",
     "text": [
      "Fitting 5 folds for each of 1 candidates, totalling 5 fits\n"
     ]
    },
    {
     "name": "stderr",
     "output_type": "stream",
     "text": [
      "/Users/nginyc/repos/job_posting_salary_prediction/venv/lib/python3.12/site-packages/sklearn/linear_model/_coordinate_descent.py:697: ConvergenceWarning: Objective did not converge. You might want to increase the number of iterations, check the scale of the features or consider increasing regularisation. Duality gap: 2.814e+12, tolerance: 9.465e+09\n",
      "  model = cd_fast.enet_coordinate_descent(\n"
     ]
    },
    {
     "name": "stdout",
     "output_type": "stream",
     "text": [
      "[CV 1/5] END ......................alpha=87.145;, score=0.576 total time= 8.8min\n"
     ]
    },
    {
     "name": "stderr",
     "output_type": "stream",
     "text": [
      "/Users/nginyc/repos/job_posting_salary_prediction/venv/lib/python3.12/site-packages/sklearn/linear_model/_coordinate_descent.py:697: ConvergenceWarning: Objective did not converge. You might want to increase the number of iterations, check the scale of the features or consider increasing regularisation. Duality gap: 2.293e+12, tolerance: 9.224e+09\n",
      "  model = cd_fast.enet_coordinate_descent(\n"
     ]
    },
    {
     "name": "stdout",
     "output_type": "stream",
     "text": [
      "[CV 2/5] END ......................alpha=87.145;, score=0.554 total time= 9.0min\n"
     ]
    },
    {
     "name": "stderr",
     "output_type": "stream",
     "text": [
      "/Users/nginyc/repos/job_posting_salary_prediction/venv/lib/python3.12/site-packages/sklearn/linear_model/_coordinate_descent.py:697: ConvergenceWarning: Objective did not converge. You might want to increase the number of iterations, check the scale of the features or consider increasing regularisation. Duality gap: 2.081e+12, tolerance: 9.369e+09\n",
      "  model = cd_fast.enet_coordinate_descent(\n"
     ]
    },
    {
     "name": "stdout",
     "output_type": "stream",
     "text": [
      "[CV 3/5] END ......................alpha=87.145;, score=0.581 total time= 9.0min\n"
     ]
    },
    {
     "name": "stderr",
     "output_type": "stream",
     "text": [
      "/Users/nginyc/repos/job_posting_salary_prediction/venv/lib/python3.12/site-packages/sklearn/linear_model/_coordinate_descent.py:697: ConvergenceWarning: Objective did not converge. You might want to increase the number of iterations, check the scale of the features or consider increasing regularisation. Duality gap: 2.073e+12, tolerance: 9.314e+09\n",
      "  model = cd_fast.enet_coordinate_descent(\n"
     ]
    },
    {
     "name": "stdout",
     "output_type": "stream",
     "text": [
      "[CV 4/5] END ......................alpha=87.145;, score=0.552 total time=12.0min\n"
     ]
    },
    {
     "name": "stderr",
     "output_type": "stream",
     "text": [
      "/Users/nginyc/repos/job_posting_salary_prediction/venv/lib/python3.12/site-packages/sklearn/linear_model/_coordinate_descent.py:697: ConvergenceWarning: Objective did not converge. You might want to increase the number of iterations, check the scale of the features or consider increasing regularisation. Duality gap: 2.282e+12, tolerance: 9.279e+09\n",
      "  model = cd_fast.enet_coordinate_descent(\n"
     ]
    },
    {
     "name": "stdout",
     "output_type": "stream",
     "text": [
      "[CV 5/5] END ......................alpha=87.145;, score=0.575 total time= 4.5min\n"
     ]
    },
    {
     "name": "stderr",
     "output_type": "stream",
     "text": [
      "/Users/nginyc/repos/job_posting_salary_prediction/venv/lib/python3.12/site-packages/sklearn/linear_model/_coordinate_descent.py:697: ConvergenceWarning: Objective did not converge. You might want to increase the number of iterations, check the scale of the features or consider increasing regularisation. Duality gap: 3.080e+12, tolerance: 1.166e+10\n",
      "  model = cd_fast.enet_coordinate_descent(\n"
     ]
    }
   ],
   "source": [
    "model_lasso = make_pipeline(\n",
    "    clone(preprocessor),\n",
    "    BayesSearchCV(\n",
    "        Lasso(warm_start=True, max_iter=100),\n",
    "        # Comment to use tuned hyperparameters\n",
    "        { 'alpha': [87.145] },\n",
    "        # Uncomment to tune hyperparameters\n",
    "        # { 'alpha': (1e-3, 1e+3, 'log-uniform') },\n",
    "        scoring='r2',\n",
    "        cv=KFold(n_splits=5, shuffle=True, random_state=42),\n",
    "        n_iter=1,\n",
    "        # n_iter=50,\n",
    "        verbose=3\n",
    "    )\n",
    ").fit(X_train, y_train)"
   ]
  },
  {
   "cell_type": "code",
   "execution_count": 23,
   "id": "b91548bf",
   "metadata": {},
   "outputs": [
    {
     "data": {
      "text/plain": [
       "(OrderedDict([('alpha', 87.145)]), 0.5676450422728676)"
      ]
     },
     "execution_count": 23,
     "metadata": {},
     "output_type": "execute_result"
    }
   ],
   "source": [
    "model_lasso[-1].best_params_, model_lasso[-1].best_score_"
   ]
  },
  {
   "cell_type": "code",
   "execution_count": 24,
   "id": "585974b7",
   "metadata": {},
   "outputs": [
    {
     "name": "stdout",
     "output_type": "stream",
     "text": [
      "Train size: 32103\n",
      "Train R2: 0.6196\n",
      "Train RMSE: 37176.0120\n",
      "Train MAE: 23027.3189\n"
     ]
    }
   ],
   "source": [
    "result_train_lasso = salary.evaluate_train_predictions(model_lasso.predict(X_train), y_train)"
   ]
  },
  {
   "cell_type": "markdown",
   "id": "420594a6",
   "metadata": {},
   "source": [
    "## Train & Tune Ridge (L2)"
   ]
  },
  {
   "cell_type": "code",
   "execution_count": 25,
   "id": "021835da",
   "metadata": {},
   "outputs": [
    {
     "name": "stdout",
     "output_type": "stream",
     "text": [
      "Fitting 5 folds for each of 1 candidates, totalling 5 fits\n",
      "[CV 1/5] END ......................alpha=1000.0;, score=0.571 total time=  24.5s\n",
      "[CV 2/5] END ......................alpha=1000.0;, score=0.550 total time=   6.4s\n",
      "[CV 3/5] END ......................alpha=1000.0;, score=0.579 total time=   6.4s\n",
      "[CV 4/5] END ......................alpha=1000.0;, score=0.547 total time=15.3min\n",
      "[CV 5/5] END ......................alpha=1000.0;, score=0.573 total time=15.7min\n"
     ]
    }
   ],
   "source": [
    "model_ridge = make_pipeline(\n",
    "    clone(preprocessor),\n",
    "    BayesSearchCV(\n",
    "        Ridge(),\n",
    "        # Comment to use tuned hyperparameters\n",
    "        { 'alpha': [1000.0] },\n",
    "        # Uncomment to tune hyperparameters\n",
    "        # { 'alpha': (1e-3, 1e+3, 'log-uniform') },\n",
    "        scoring='r2',\n",
    "        cv=KFold(n_splits=5, shuffle=True, random_state=42),\n",
    "        n_iter=1,\n",
    "        # n_iter=50,\n",
    "        verbose=3\n",
    "    )\n",
    ").fit(X_train, y_train)"
   ]
  },
  {
   "cell_type": "code",
   "execution_count": 26,
   "id": "9907375e",
   "metadata": {},
   "outputs": [
    {
     "data": {
      "text/plain": [
       "(OrderedDict([('alpha', 1000.0)]), 0.5640118927071411)"
      ]
     },
     "execution_count": 26,
     "metadata": {},
     "output_type": "execute_result"
    }
   ],
   "source": [
    "model_ridge[-1].best_params_, model_ridge[-1].best_score_"
   ]
  },
  {
   "cell_type": "code",
   "execution_count": 27,
   "id": "8adda45d",
   "metadata": {},
   "outputs": [
    {
     "name": "stdout",
     "output_type": "stream",
     "text": [
      "Train size: 32103\n",
      "Train R2: 0.6358\n",
      "Train RMSE: 36374.1587\n",
      "Train MAE: 22798.8486\n"
     ]
    }
   ],
   "source": [
    "result_train_ridge = salary.evaluate_train_predictions(model_ridge.predict(X_train), y_train)"
   ]
  },
  {
   "cell_type": "markdown",
   "id": "c829991e",
   "metadata": {},
   "source": [
    "## Train & Tune ElasticNet"
   ]
  },
  {
   "cell_type": "code",
   "execution_count": 28,
   "id": "95e1e6ac",
   "metadata": {},
   "outputs": [
    {
     "name": "stdout",
     "output_type": "stream",
     "text": [
      "Fitting 5 folds for each of 1 candidates, totalling 5 fits\n"
     ]
    },
    {
     "name": "stderr",
     "output_type": "stream",
     "text": [
      "/Users/nginyc/repos/job_posting_salary_prediction/venv/lib/python3.12/site-packages/sklearn/linear_model/_coordinate_descent.py:697: ConvergenceWarning: Objective did not converge. You might want to increase the number of iterations, check the scale of the features or consider increasing regularisation. Duality gap: 1.897e+13, tolerance: 9.465e+09\n",
      "  model = cd_fast.enet_coordinate_descent(\n"
     ]
    },
    {
     "name": "stdout",
     "output_type": "stream",
     "text": [
      "[CV 1/5] END ...alpha=0.32865, l1_ratio=0.48027;, score=0.576 total time= 3.4min\n"
     ]
    },
    {
     "name": "stderr",
     "output_type": "stream",
     "text": [
      "/Users/nginyc/repos/job_posting_salary_prediction/venv/lib/python3.12/site-packages/sklearn/linear_model/_coordinate_descent.py:697: ConvergenceWarning: Objective did not converge. You might want to increase the number of iterations, check the scale of the features or consider increasing regularisation. Duality gap: 1.828e+13, tolerance: 9.224e+09\n",
      "  model = cd_fast.enet_coordinate_descent(\n"
     ]
    },
    {
     "name": "stdout",
     "output_type": "stream",
     "text": [
      "[CV 2/5] END ...alpha=0.32865, l1_ratio=0.48027;, score=0.553 total time= 3.6min\n"
     ]
    },
    {
     "name": "stderr",
     "output_type": "stream",
     "text": [
      "/Users/nginyc/repos/job_posting_salary_prediction/venv/lib/python3.12/site-packages/sklearn/linear_model/_coordinate_descent.py:697: ConvergenceWarning: Objective did not converge. You might want to increase the number of iterations, check the scale of the features or consider increasing regularisation. Duality gap: 1.886e+13, tolerance: 9.369e+09\n",
      "  model = cd_fast.enet_coordinate_descent(\n"
     ]
    },
    {
     "name": "stdout",
     "output_type": "stream",
     "text": [
      "[CV 3/5] END ...alpha=0.32865, l1_ratio=0.48027;, score=0.581 total time= 4.1min\n"
     ]
    },
    {
     "name": "stderr",
     "output_type": "stream",
     "text": [
      "/Users/nginyc/repos/job_posting_salary_prediction/venv/lib/python3.12/site-packages/sklearn/linear_model/_coordinate_descent.py:697: ConvergenceWarning: Objective did not converge. You might want to increase the number of iterations, check the scale of the features or consider increasing regularisation. Duality gap: 1.846e+13, tolerance: 9.314e+09\n",
      "  model = cd_fast.enet_coordinate_descent(\n"
     ]
    },
    {
     "name": "stdout",
     "output_type": "stream",
     "text": [
      "[CV 4/5] END ...alpha=0.32865, l1_ratio=0.48027;, score=0.553 total time= 4.7min\n"
     ]
    },
    {
     "name": "stderr",
     "output_type": "stream",
     "text": [
      "/Users/nginyc/repos/job_posting_salary_prediction/venv/lib/python3.12/site-packages/sklearn/linear_model/_coordinate_descent.py:697: ConvergenceWarning: Objective did not converge. You might want to increase the number of iterations, check the scale of the features or consider increasing regularisation. Duality gap: 1.861e+13, tolerance: 9.279e+09\n",
      "  model = cd_fast.enet_coordinate_descent(\n"
     ]
    },
    {
     "name": "stdout",
     "output_type": "stream",
     "text": [
      "[CV 5/5] END ...alpha=0.32865, l1_ratio=0.48027;, score=0.575 total time= 4.4min\n"
     ]
    },
    {
     "name": "stderr",
     "output_type": "stream",
     "text": [
      "/Users/nginyc/repos/job_posting_salary_prediction/venv/lib/python3.12/site-packages/sklearn/linear_model/_coordinate_descent.py:697: ConvergenceWarning: Objective did not converge. You might want to increase the number of iterations, check the scale of the features or consider increasing regularisation. Duality gap: 2.362e+13, tolerance: 1.166e+10\n",
      "  model = cd_fast.enet_coordinate_descent(\n"
     ]
    }
   ],
   "source": [
    "model_elasticnet = make_pipeline(\n",
    "    clone(preprocessor),\n",
    "    BayesSearchCV(\n",
    "        ElasticNet(warm_start=True, max_iter=100),\n",
    "        # Comment to use tuned hyperparameters\n",
    "        { \n",
    "            'alpha': [0.32865],\n",
    "            'l1_ratio': [0.48027] \n",
    "        },\n",
    "        # Uncomment to tune hyperparameters\n",
    "        # { \n",
    "        #     'alpha': (1e-3, 1e+3, 'log-uniform'),\n",
    "        #     'l1_ratio': (0.0, 1.0, 'uniform')\n",
    "        # },\n",
    "        scoring='r2',\n",
    "        cv=KFold(n_splits=5, shuffle=True, random_state=42),\n",
    "        n_iter=1,\n",
    "        # n_iter=50,\n",
    "        verbose=3\n",
    "    )\n",
    ").fit(X_train, y_train)"
   ]
  },
  {
   "cell_type": "code",
   "execution_count": 29,
   "id": "cc2c0c45",
   "metadata": {},
   "outputs": [
    {
     "data": {
      "text/plain": [
       "(OrderedDict([('alpha', 0.32865), ('l1_ratio', 0.48027)]), 0.5677541591106834)"
      ]
     },
     "execution_count": 29,
     "metadata": {},
     "output_type": "execute_result"
    }
   ],
   "source": [
    "model_elasticnet[-1].best_params_, model_elasticnet[-1].best_score_"
   ]
  },
  {
   "cell_type": "code",
   "execution_count": 30,
   "id": "17da197f",
   "metadata": {},
   "outputs": [
    {
     "name": "stdout",
     "output_type": "stream",
     "text": [
      "Train size: 32103\n",
      "Train R2: 0.6195\n",
      "Train RMSE: 37178.0472\n",
      "Train MAE: 22914.5429\n"
     ]
    }
   ],
   "source": [
    "result_train_elasticnet = salary.evaluate_train_predictions(model_elasticnet.predict(X_train), y_train)"
   ]
  },
  {
   "cell_type": "markdown",
   "id": "0e18192e",
   "metadata": {},
   "source": [
    "## Select Best Model"
   ]
  },
  {
   "cell_type": "code",
   "execution_count": 31,
   "id": "20fe087e",
   "metadata": {},
   "outputs": [
    {
     "name": "stdout",
     "output_type": "stream",
     "text": [
      "Best model: elasticnet\n",
      "Best model score: 0.5677541591106834\n",
      "Best model params: OrderedDict({'alpha': 0.32865, 'l1_ratio': 0.48027})\n"
     ]
    }
   ],
   "source": [
    "MODEL_NAMES = ['lasso', 'ridge', 'elasticnet']\n",
    "best_model_name = MODEL_NAMES[np.argmax([model_lasso[-1].best_score_, model_ridge[-1].best_score_, model_elasticnet[-1].best_score_])]\n",
    "best_model = {\n",
    "    'lasso': model_lasso,\n",
    "    'ridge': model_ridge,\n",
    "    'elasticnet': model_elasticnet\n",
    "}[best_model_name]\n",
    "\n",
    "print(f'Best model: {best_model_name}')\n",
    "print(f'Best model score: {best_model[-1].best_score_}')\n",
    "print(f'Best model params: {best_model[-1].best_params_}')"
   ]
  },
  {
   "cell_type": "markdown",
   "id": "8dc4974e",
   "metadata": {},
   "source": [
    "## Evaluate on Test Set"
   ]
  },
  {
   "cell_type": "code",
   "execution_count": 32,
   "id": "c9101550",
   "metadata": {},
   "outputs": [],
   "source": [
    "(X_test, y_test) = salary.get_test_dataset()"
   ]
  },
  {
   "cell_type": "code",
   "execution_count": 33,
   "id": "cd56edf6",
   "metadata": {},
   "outputs": [
    {
     "name": "stdout",
     "output_type": "stream",
     "text": [
      "Test size: 10000\n",
      "Test R2: 0.5703\n",
      "Test RMSE: 39283.5080\n",
      "Test MAE: 24611.0859\n"
     ]
    }
   ],
   "source": [
    "result_test = salary.evaluate_test_predictions(best_model.predict(X_test))"
   ]
  },
  {
   "cell_type": "code",
   "execution_count": 34,
   "id": "394e197e",
   "metadata": {},
   "outputs": [
    {
     "name": "stdout",
     "output_type": "stream",
     "text": [
      "For lasso...\n",
      "Test size: 10000\n",
      "Test R2: 0.5704\n",
      "Test RMSE: 39280.8173\n",
      "Test MAE: 24732.2059\n",
      "For ridge...\n",
      "Test size: 10000\n",
      "Test R2: 0.5680\n",
      "Test RMSE: 39388.4993\n",
      "Test MAE: 25113.3795\n",
      "For elasticnet...\n",
      "Test size: 10000\n",
      "Test R2: 0.5703\n",
      "Test RMSE: 39283.5080\n",
      "Test MAE: 24611.0859\n"
     ]
    }
   ],
   "source": [
    "for model_name, model in zip(MODEL_NAMES, [model_lasso, model_ridge, model_elasticnet]):\n",
    "    print(f'For {model_name}...')\n",
    "    salary.evaluate_test_predictions(model.predict(X_test))"
   ]
  }
 ],
 "metadata": {
  "kernelspec": {
   "display_name": "venv",
   "language": "python",
   "name": "python3"
  },
  "language_info": {
   "codemirror_mode": {
    "name": "ipython",
    "version": 3
   },
   "file_extension": ".py",
   "mimetype": "text/x-python",
   "name": "python",
   "nbconvert_exporter": "python",
   "pygments_lexer": "ipython3",
   "version": "3.12.9"
  }
 },
 "nbformat": 4,
 "nbformat_minor": 5
}
