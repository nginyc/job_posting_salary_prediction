{
 "cells": [
  {
   "cell_type": "markdown",
   "id": "cc2fc48f-dbcc-4e6c-bc0e-8d1e72e670a4",
   "metadata": {},
   "source": [
    "# Salary Prediction from LinkedIn Job Postings - Train Linear Model"
   ]
  },
  {
   "cell_type": "code",
   "execution_count": 1,
   "id": "3375fb27-0be7-4da8-9378-9137587226e2",
   "metadata": {},
   "outputs": [
    {
     "name": "stderr",
     "output_type": "stream",
     "text": [
      "/var/folders/vm/77wrgjgj5wzbyghx353b7gym0000gn/T/ipykernel_96940/3926545994.py:1: DeprecationWarning: \n",
      "Pyarrow will become a required dependency of pandas in the next major release of pandas (pandas 3.0),\n",
      "(to allow more performant data types, such as the Arrow string type, and better interoperability with other libraries)\n",
      "but was not found to be installed on your system.\n",
      "If this would cause problems for you,\n",
      "please provide us feedback at https://github.com/pandas-dev/pandas/issues/54466\n",
      "        \n",
      "  import pandas as pd, numpy as np\n",
      "/Users/nginyc/repos/job_posting_salary_prediction/venv/lib/python3.12/site-packages/tqdm/auto.py:21: TqdmWarning: IProgress not found. Please update jupyter and ipywidgets. See https://ipywidgets.readthedocs.io/en/stable/user_install.html\n",
      "  from .autonotebook import tqdm as notebook_tqdm\n"
     ]
    }
   ],
   "source": [
    "import pandas as pd, numpy as np\n",
    "import salary\n",
    "from sklearn.pipeline import make_pipeline\n",
    "from sklearn.compose import ColumnTransformer\n",
    "from sklearn.preprocessing import StandardScaler\n",
    "from category_encoders import TargetEncoder, OneHotEncoder\n",
    "from sklearn.impute import SimpleImputer\n",
    "from sklearn.linear_model import LinearRegression"
   ]
  },
  {
   "cell_type": "markdown",
   "id": "d9ea2ba1",
   "metadata": {},
   "source": [
    "## Train & Evaluate Model"
   ]
  },
  {
   "cell_type": "code",
   "execution_count": 2,
   "id": "d149ea96",
   "metadata": {},
   "outputs": [],
   "source": [
    "(X_train, y_train) = salary.get_train_dataset()\n",
    "(X_test, y_test) = salary.get_test_dataset()"
   ]
  },
  {
   "cell_type": "markdown",
   "id": "d36b6dc1",
   "metadata": {},
   "source": [
    "### Use Target Encoded Norm Title"
   ]
  },
  {
   "cell_type": "code",
   "execution_count": 3,
   "id": "021835da",
   "metadata": {},
   "outputs": [
    {
     "name": "stdout",
     "output_type": "stream",
     "text": [
      "Train R2: 0.3183\n",
      "Train RMSE: 50791.2103\n",
      "Train MAE: 32862.4231\n"
     ]
    }
   ],
   "source": [
    "model = make_pipeline(\n",
    "    ColumnTransformer(\n",
    "        transformers=[\n",
    "            ('target_encoder', TargetEncoder(), ['norm_title', 'location_state', 'company_industries']),\n",
    "            ('one_hot_encoder', OneHotEncoder(use_cat_names=True), ['clustered_edu_req']),\n",
    "            ('experience_level', salary.experience_level_encoder, ['formatted_experience_level']),\n",
    "            ('work_type', salary.work_type_encoder, ['formatted_work_type']),\n",
    "            ('remote_allowed', 'passthrough', ['remote_allowed']),\n",
    "            ('company_employee_count', SimpleImputer(strategy='median'), ['company_employee_count']),\n",
    "        ],\n",
    "        remainder='drop'\n",
    "    ),\n",
    "    StandardScaler(),\n",
    "    LinearRegression()\n",
    ").fit(X_train, y_train)\n",
    "\n",
    "salary.evaluate_train_predictions(model.predict(X_train))"
   ]
  },
  {
   "cell_type": "code",
   "execution_count": 4,
   "id": "b06908fe",
   "metadata": {},
   "outputs": [
    {
     "name": "stdout",
     "output_type": "stream",
     "text": [
      "Test R2: 0.3430\n",
      "Test RMSE: 47253.4596\n",
      "Test MAE: 31809.9999\n",
      "On average, our predicted salaries are $31810.00 off the true salaries\n",
      "This is 26.74% better than a naive global mean\n"
     ]
    }
   ],
   "source": [
    "salary.evaluate_test_predictions(model.predict(X_test))"
   ]
  },
  {
   "cell_type": "code",
   "execution_count": 5,
   "id": "51f2e71a",
   "metadata": {},
   "outputs": [
    {
     "data": {
      "text/html": [
       "<div>\n",
       "<style scoped>\n",
       "    .dataframe tbody tr th:only-of-type {\n",
       "        vertical-align: middle;\n",
       "    }\n",
       "\n",
       "    .dataframe tbody tr th {\n",
       "        vertical-align: top;\n",
       "    }\n",
       "\n",
       "    .dataframe thead th {\n",
       "        text-align: right;\n",
       "    }\n",
       "</style>\n",
       "<table border=\"1\" class=\"dataframe\">\n",
       "  <thead>\n",
       "    <tr style=\"text-align: right;\">\n",
       "      <th></th>\n",
       "      <th>Feature</th>\n",
       "      <th>Coefficient</th>\n",
       "    </tr>\n",
       "  </thead>\n",
       "  <tbody>\n",
       "    <tr>\n",
       "      <th>0</th>\n",
       "      <td>target_encoder__norm_title</td>\n",
       "      <td>15240.307795</td>\n",
       "    </tr>\n",
       "    <tr>\n",
       "      <th>1</th>\n",
       "      <td>target_encoder__company_industries</td>\n",
       "      <td>11746.321473</td>\n",
       "    </tr>\n",
       "    <tr>\n",
       "      <th>2</th>\n",
       "      <td>experience_level__formatted_experience_level</td>\n",
       "      <td>9057.471135</td>\n",
       "    </tr>\n",
       "    <tr>\n",
       "      <th>3</th>\n",
       "      <td>target_encoder__location_state</td>\n",
       "      <td>7895.204028</td>\n",
       "    </tr>\n",
       "    <tr>\n",
       "      <th>4</th>\n",
       "      <td>one_hot_encoder__clustered_edu_req_High school diploma or equivalent</td>\n",
       "      <td>-6030.892168</td>\n",
       "    </tr>\n",
       "    <tr>\n",
       "      <th>5</th>\n",
       "      <td>work_type__formatted_work_type</td>\n",
       "      <td>4668.910081</td>\n",
       "    </tr>\n",
       "    <tr>\n",
       "      <th>6</th>\n",
       "      <td>company_employee_count__company_employee_count</td>\n",
       "      <td>4169.574053</td>\n",
       "    </tr>\n",
       "    <tr>\n",
       "      <th>7</th>\n",
       "      <td>one_hot_encoder__clustered_edu_req_High school diploma/GED/equivalent preferred</td>\n",
       "      <td>-4075.933592</td>\n",
       "    </tr>\n",
       "    <tr>\n",
       "      <th>8</th>\n",
       "      <td>one_hot_encoder__clustered_edu_req_Bachelor's degree in Computer Science, Information Systems, Computer Engineering or related field</td>\n",
       "      <td>4019.753092</td>\n",
       "    </tr>\n",
       "    <tr>\n",
       "      <th>9</th>\n",
       "      <td>one_hot_encoder__clustered_edu_req_Graduate of an accredited program and board certified.</td>\n",
       "      <td>3841.622818</td>\n",
       "    </tr>\n",
       "  </tbody>\n",
       "</table>\n",
       "</div>"
      ],
      "text/plain": [
       "                                                                                                                                Feature  \\\n",
       "0                                                                                                            target_encoder__norm_title   \n",
       "1                                                                                                    target_encoder__company_industries   \n",
       "2                                                                                          experience_level__formatted_experience_level   \n",
       "3                                                                                                        target_encoder__location_state   \n",
       "4                                                                  one_hot_encoder__clustered_edu_req_High school diploma or equivalent   \n",
       "5                                                                                                        work_type__formatted_work_type   \n",
       "6                                                                                        company_employee_count__company_employee_count   \n",
       "7                                                       one_hot_encoder__clustered_edu_req_High school diploma/GED/equivalent preferred   \n",
       "8  one_hot_encoder__clustered_edu_req_Bachelor's degree in Computer Science, Information Systems, Computer Engineering or related field   \n",
       "9                                             one_hot_encoder__clustered_edu_req_Graduate of an accredited program and board certified.   \n",
       "\n",
       "    Coefficient  \n",
       "0  15240.307795  \n",
       "1  11746.321473  \n",
       "2   9057.471135  \n",
       "3   7895.204028  \n",
       "4  -6030.892168  \n",
       "5   4668.910081  \n",
       "6   4169.574053  \n",
       "7  -4075.933592  \n",
       "8   4019.753092  \n",
       "9   3841.622818  "
      ]
     },
     "execution_count": 5,
     "metadata": {},
     "output_type": "execute_result"
    }
   ],
   "source": [
    "def get_important_features(model, n=10):\n",
    "    feature_names = model[:-1].get_feature_names_out(salary.df_X.columns)\n",
    "    coef = model[-1].coef_\n",
    "    idxs = np.flip(np.argsort(np.abs(coef))[-n:])\n",
    "    pd.set_option('display.max_colwidth', None)\n",
    "    return pd.DataFrame([feature_names[idxs], coef[idxs]], index=[\"Feature\", \"Coefficient\"]).transpose()\n",
    "\n",
    "get_important_features(model)"
   ]
  },
  {
   "cell_type": "markdown",
   "id": "d90b24aa",
   "metadata": {},
   "source": [
    "### Use One Hot Encoded Norm Title"
   ]
  },
  {
   "cell_type": "code",
   "execution_count": 6,
   "id": "0cbd142b",
   "metadata": {},
   "outputs": [
    {
     "name": "stdout",
     "output_type": "stream",
     "text": [
      "Train R2: 0.3246\n",
      "Train RMSE: 50554.9300\n",
      "Train MAE: 32628.3853\n"
     ]
    }
   ],
   "source": [
    "model = make_pipeline(\n",
    "    ColumnTransformer(\n",
    "        transformers=[\n",
    "            ('one_hot_encoder', OneHotEncoder(use_cat_names=True), ['norm_title', 'clustered_edu_req']),\n",
    "            ('target_encoder', TargetEncoder(), ['location_state', 'company_industries']),\n",
    "            ('experience_level', salary.experience_level_encoder, ['formatted_experience_level']),\n",
    "            ('work_type', salary.work_type_encoder, ['formatted_work_type']),\n",
    "            ('remote_allowed', 'passthrough', ['remote_allowed']),\n",
    "            ('company_employee_count', SimpleImputer(strategy='median'), ['company_employee_count']),\n",
    "        ],\n",
    "        remainder='drop'\n",
    "    ),\n",
    "    StandardScaler(),\n",
    "    LinearRegression()\n",
    ").fit(X_train, y_train)\n",
    "\n",
    "salary.evaluate_train_predictions(model.predict(X_train))"
   ]
  },
  {
   "cell_type": "code",
   "execution_count": 7,
   "id": "9d857bc8",
   "metadata": {},
   "outputs": [
    {
     "name": "stdout",
     "output_type": "stream",
     "text": [
      "Test R2: 0.3486\n",
      "Test RMSE: 47053.8397\n",
      "Test MAE: 31693.4212\n",
      "On average, our predicted salaries are $31693.42 off the true salaries\n",
      "This is 27.01% better than a naive global mean\n"
     ]
    }
   ],
   "source": [
    "salary.evaluate_test_predictions(model.predict(X_test))"
   ]
  },
  {
   "cell_type": "code",
   "execution_count": 8,
   "id": "34dca7a3",
   "metadata": {},
   "outputs": [
    {
     "data": {
      "text/html": [
       "<div>\n",
       "<style scoped>\n",
       "    .dataframe tbody tr th:only-of-type {\n",
       "        vertical-align: middle;\n",
       "    }\n",
       "\n",
       "    .dataframe tbody tr th {\n",
       "        vertical-align: top;\n",
       "    }\n",
       "\n",
       "    .dataframe thead th {\n",
       "        text-align: right;\n",
       "    }\n",
       "</style>\n",
       "<table border=\"1\" class=\"dataframe\">\n",
       "  <thead>\n",
       "    <tr style=\"text-align: right;\">\n",
       "      <th></th>\n",
       "      <th>Feature</th>\n",
       "      <th>Coefficient</th>\n",
       "    </tr>\n",
       "  </thead>\n",
       "  <tbody>\n",
       "    <tr>\n",
       "      <th>0</th>\n",
       "      <td>target_encoder__company_industries</td>\n",
       "      <td>12886.20296</td>\n",
       "    </tr>\n",
       "    <tr>\n",
       "      <th>1</th>\n",
       "      <td>experience_level__formatted_experience_level</td>\n",
       "      <td>9196.140833</td>\n",
       "    </tr>\n",
       "    <tr>\n",
       "      <th>2</th>\n",
       "      <td>target_encoder__location_state</td>\n",
       "      <td>7902.730881</td>\n",
       "    </tr>\n",
       "    <tr>\n",
       "      <th>3</th>\n",
       "      <td>one_hot_encoder__clustered_edu_req_High school diploma or equivalent</td>\n",
       "      <td>-6136.772325</td>\n",
       "    </tr>\n",
       "    <tr>\n",
       "      <th>4</th>\n",
       "      <td>work_type__formatted_work_type</td>\n",
       "      <td>4855.857346</td>\n",
       "    </tr>\n",
       "    <tr>\n",
       "      <th>5</th>\n",
       "      <td>one_hot_encoder__norm_title_Senior Software Engineer</td>\n",
       "      <td>4539.490539</td>\n",
       "    </tr>\n",
       "    <tr>\n",
       "      <th>6</th>\n",
       "      <td>one_hot_encoder__clustered_edu_req_High school diploma/GED/equivalent preferred</td>\n",
       "      <td>-4440.131246</td>\n",
       "    </tr>\n",
       "    <tr>\n",
       "      <th>7</th>\n",
       "      <td>one_hot_encoder__clustered_edu_req_Bachelor's degree in Computer Science, Information Systems, Computer Engineering or related field</td>\n",
       "      <td>4321.743784</td>\n",
       "    </tr>\n",
       "    <tr>\n",
       "      <th>8</th>\n",
       "      <td>company_employee_count__company_employee_count</td>\n",
       "      <td>3983.857308</td>\n",
       "    </tr>\n",
       "    <tr>\n",
       "      <th>9</th>\n",
       "      <td>one_hot_encoder__norm_title_Customer Service Representative</td>\n",
       "      <td>-3644.423379</td>\n",
       "    </tr>\n",
       "  </tbody>\n",
       "</table>\n",
       "</div>"
      ],
      "text/plain": [
       "                                                                                                                                Feature  \\\n",
       "0                                                                                                    target_encoder__company_industries   \n",
       "1                                                                                          experience_level__formatted_experience_level   \n",
       "2                                                                                                        target_encoder__location_state   \n",
       "3                                                                  one_hot_encoder__clustered_edu_req_High school diploma or equivalent   \n",
       "4                                                                                                        work_type__formatted_work_type   \n",
       "5                                                                                  one_hot_encoder__norm_title_Senior Software Engineer   \n",
       "6                                                       one_hot_encoder__clustered_edu_req_High school diploma/GED/equivalent preferred   \n",
       "7  one_hot_encoder__clustered_edu_req_Bachelor's degree in Computer Science, Information Systems, Computer Engineering or related field   \n",
       "8                                                                                        company_employee_count__company_employee_count   \n",
       "9                                                                           one_hot_encoder__norm_title_Customer Service Representative   \n",
       "\n",
       "   Coefficient  \n",
       "0  12886.20296  \n",
       "1  9196.140833  \n",
       "2  7902.730881  \n",
       "3 -6136.772325  \n",
       "4  4855.857346  \n",
       "5  4539.490539  \n",
       "6 -4440.131246  \n",
       "7  4321.743784  \n",
       "8  3983.857308  \n",
       "9 -3644.423379  "
      ]
     },
     "execution_count": 8,
     "metadata": {},
     "output_type": "execute_result"
    }
   ],
   "source": [
    "get_important_features(model)"
   ]
  },
  {
   "cell_type": "markdown",
   "id": "2ec99500",
   "metadata": {},
   "source": [
    "### Use Sentence BERT Encoded Title "
   ]
  },
  {
   "cell_type": "code",
   "execution_count": 9,
   "id": "67e7a929",
   "metadata": {},
   "outputs": [
    {
     "name": "stdout",
     "output_type": "stream",
     "text": [
      "Train R2: 0.5110\n",
      "Train RMSE: 43015.4046\n",
      "Train MAE: 27431.7856\n"
     ]
    }
   ],
   "source": [
    "model_log = make_pipeline(\n",
    "    ColumnTransformer(\n",
    "        transformers=[\n",
    "            ('sentence_bert_encoder', salary.SentenceBertEncoder(), ['title']),\n",
    "            ('one_hot_encoder', OneHotEncoder(use_cat_names=True), ['clustered_edu_req']),\n",
    "            ('target_encoder', TargetEncoder(), ['location_state', 'company_industries']),\n",
    "            ('experience_level', salary.experience_level_encoder, ['formatted_experience_level']),\n",
    "            ('work_type', salary.work_type_encoder, ['formatted_work_type']),\n",
    "            ('remote_allowed', 'passthrough', ['remote_allowed']),\n",
    "            ('company_employee_count', SimpleImputer(strategy='median'), ['company_employee_count']),\n",
    "        ],\n",
    "        remainder='drop'\n",
    "    ),\n",
    "    StandardScaler(),\n",
    "    LinearRegression(),\n",
    ").fit(X_train, y_train)\n",
    "\n",
    "salary.evaluate_train_predictions(model_log.predict(X_train))"
   ]
  },
  {
   "cell_type": "code",
   "execution_count": 10,
   "id": "382c8326",
   "metadata": {},
   "outputs": [
    {
     "name": "stdout",
     "output_type": "stream",
     "text": [
      "Test R2: 0.5095\n",
      "Test RMSE: 40831.4836\n",
      "Test MAE: 27704.5813\n",
      "On average, our predicted salaries are $27704.58 off the true salaries\n",
      "This is 36.19% better than a naive global mean\n"
     ]
    }
   ],
   "source": [
    "salary.evaluate_test_predictions(model_log.predict(X_test))"
   ]
  }
 ],
 "metadata": {
  "kernelspec": {
   "display_name": "venv",
   "language": "python",
   "name": "python3"
  },
  "language_info": {
   "codemirror_mode": {
    "name": "ipython",
    "version": 3
   },
   "file_extension": ".py",
   "mimetype": "text/x-python",
   "name": "python",
   "nbconvert_exporter": "python",
   "pygments_lexer": "ipython3",
   "version": "3.12.9"
  }
 },
 "nbformat": 4,
 "nbformat_minor": 5
}
